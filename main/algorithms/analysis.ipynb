{
 "cells": [
  {
   "cell_type": "code",
   "id": "initial_id",
   "metadata": {
    "collapsed": true,
    "ExecuteTime": {
     "end_time": "2024-10-05T05:19:40.435987Z",
     "start_time": "2024-10-05T05:19:20.659935Z"
    }
   },
   "source": [
    "import os\n",
    "import pandas as pd\n",
    "\n",
    "from algorithms.PatternExplorer import transaction_collector\n",
    "from entity.LightNode import LightNode\n",
    "from utils.DataLoader import DataLoader\n",
    "from utils.Settings import Setting\n",
    "from utils.ProjectPath import ProjectPath\n",
    "from entity import LightCluster, LightNode\n",
    "\n",
    "path = ProjectPath()\n",
    "setting = Setting()\n",
    "dataloader = DataLoader()\n",
    "\n",
    "cluster_path = path.univ2_cluster_path\n",
    "cluster_file_template = \"cluster_{}.csv\"\n",
    "suspicious_file_template = \"cluster_{}_suspicious_nodes.csv\""
   ],
   "outputs": [
    {
     "name": "stdout",
     "output_type": "stream",
     "text": [
      "ENVIRONMENT VARIABLES\n",
      "DATA PATH: /mnt/Storage/Data/Blockchain/DEX\n",
      "ENVIRONMENT VARIABLES\n",
      "DATA PATH: /mnt/Storage/Data/Blockchain/DEX\n",
      "ENVIRONMENT VARIABLES\n",
      "DATA PATH: /mnt/Storage/Data/Blockchain/DEX\n",
      "ENVIRONMENT VARIABLES\n",
      "DATA PATH: /mnt/Storage/Data/Blockchain/DEX\n",
      "ENVIRONMENT VARIABLES\n",
      "DATA PATH: /mnt/Storage/Data/Blockchain/DEX\n",
      "ENVIRONMENT VARIABLES\n",
      "DATA PATH: /mnt/Storage/Data/Blockchain/DEX\n",
      "LOAD END NODES\n",
      "LOAD CREATION INFO\n"
     ]
    },
    {
     "name": "stderr",
     "output_type": "stream",
     "text": [
      "/home/dustin/Projects/SerialScammer/main/utils/DataLoader.py:124: SettingWithCopyWarning: \n",
      "A value is trying to be set on a copy of a slice from a DataFrame.\n",
      "Try using .loc[row_indexer,col_indexer] = value instead\n",
      "\n",
      "See the caveats in the documentation: https://pandas.pydata.org/pandas-docs/stable/user_guide/indexing.html#returning-a-view-versus-a-copy\n",
      "  tokens[\"token0\"] = tokens[\"token0\"].str.lower()\n",
      "/home/dustin/Projects/SerialScammer/main/utils/DataLoader.py:125: SettingWithCopyWarning: \n",
      "A value is trying to be set on a copy of a slice from a DataFrame.\n",
      "Try using .loc[row_indexer,col_indexer] = value instead\n",
      "\n",
      "See the caveats in the documentation: https://pandas.pydata.org/pandas-docs/stable/user_guide/indexing.html#returning-a-view-versus-a-copy\n",
      "  tokens[\"token1\"] = tokens[\"token1\"].str.lower()\n"
     ]
    },
    {
     "name": "stdout",
     "output_type": "stream",
     "text": [
      "LOAD RUG PULL INFO\n"
     ]
    }
   ],
   "execution_count": 1
  },
  {
   "metadata": {
    "ExecuteTime": {
     "end_time": "2024-10-05T05:19:40.452470Z",
     "start_time": "2024-10-05T05:19:40.445396Z"
    }
   },
   "cell_type": "code",
   "source": [
    "def count_hops_from_source(source_address, paths: list):\n",
    "    source_address = source_address.lower()\n",
    "    if not source_address in paths:\n",
    "        return 0\n",
    "    return len(paths[paths.index(source_address):])\n",
    "\n",
    "\n",
    "def get_nodes_by_labels(root_label, target_labels, cluster: LightCluster):\n",
    "    root_label_nodes = []\n",
    "    target_label_nodes = dict()\n",
    "    for node in cluster.nodes.values():\n",
    "        if root_label in node.labels and not any(label in LightNode.LightNodeLabel.SKIP_LABELS for label in node.labels):\n",
    "            root_label_nodes.append(node)\n",
    "        for l in node.labels:\n",
    "            if l in target_labels:\n",
    "                nodes = []\n",
    "                if l in target_label_nodes.keys():\n",
    "                    nodes = target_label_nodes[l]\n",
    "                nodes.append(node)\n",
    "                target_label_nodes[l] = nodes\n",
    "    return root_label_nodes, target_label_nodes\n",
    "\n",
    "\n",
    "def find_impacts(root_node, target_nodes):\n",
    "    satisfied_nodes = []\n",
    "    hops = []\n",
    "    for node in target_nodes:\n",
    "        if root_node.address in node.path:\n",
    "            satisfied_nodes.append(node)\n",
    "            hops.append(count_hops_from_source(root_node.address, node.path))\n",
    "    return satisfied_nodes, hops\n",
    "\n",
    "\n",
    "def impact_analysis(root_label, target_labels, cluster: LightCluster):\n",
    "    root_label_nodes, target_label_nodes = get_nodes_by_labels(root_label, target_labels, cluster)\n",
    "    results = []\n",
    "    for root in root_label_nodes:\n",
    "        record = LightNode.LightNode.to_sort_dict(root)\n",
    "        impacts = []\n",
    "        for tl in target_label_nodes.keys():\n",
    "            tgn = target_label_nodes.get(tl)\n",
    "            satisfied_nodes, hops = find_impacts(root, tgn)\n",
    "            impacts.append({\"type\": tl, \"count\": len(satisfied_nodes), \"avg_distance\": sum(hops) / len(hops) if len(hops) > 0 else 0})\n",
    "        record[\"impacts\"] = impacts\n",
    "        results.append(record)\n",
    "    return results\n",
    "\n",
    "\n"
   ],
   "id": "b643d94109c4f0e5",
   "outputs": [],
   "execution_count": 2
  },
  {
   "metadata": {
    "ExecuteTime": {
     "end_time": "2024-10-05T05:19:40.501984Z",
     "start_time": "2024-10-05T05:19:40.499659Z"
    }
   },
   "cell_type": "code",
   "source": [
    "group_id = 3\n",
    "cluster = LightCluster.LightCluster(group_id)\n",
    "cluster.load(cluster_path)"
   ],
   "id": "b2b27bd05e0e3e0b",
   "outputs": [],
   "execution_count": 3
  },
  {
   "metadata": {
    "ExecuteTime": {
     "end_time": "2024-10-05T05:19:40.552236Z",
     "start_time": "2024-10-05T05:19:40.547398Z"
    }
   },
   "cell_type": "code",
   "source": [
    "results = impact_analysis(LightNode.LightNodeLabel.BIG_CONNECTOR, [LightNode.LightNodeLabel.BIG_CONNECTOR, LightNode.LightNodeLabel.SCAMMER, LightNode.LightNodeLabel.BIG_WASHTRADER], cluster)\n",
    "display(results)"
   ],
   "id": "e39694668847f158",
   "outputs": [
    {
     "data": {
      "text/plain": [
       "[]"
      ]
     },
     "metadata": {},
     "output_type": "display_data"
    }
   ],
   "execution_count": 4
  },
  {
   "metadata": {
    "ExecuteTime": {
     "end_time": "2024-10-07T06:20:01.346589Z",
     "start_time": "2024-10-07T06:19:58.164270Z"
    }
   },
   "cell_type": "code",
   "source": [
    "df = pd.read_csv(os.path.join(path.panv2_processed_path, \"1_pair_pool_labels.csv\"))\n",
    "display(df.head())"
   ],
   "id": "8a031ae7167adb53",
   "outputs": [
    {
     "data": {
      "text/plain": [
       "                                         pool  \\\n",
       "0  0x804678fa97d91B974ec2af3c843270886528a9E6   \n",
       "1  0x0eD7e52944161450477ee417DE9Cd3a859b14fD0   \n",
       "2  0x58F876857a02D6762E0101bb5C46A8c1ED44Dc16   \n",
       "3  0x28415ff2C35b65B9E5c7de82126b4015ab9d031F   \n",
       "4  0x168B273278F3A8d302De5E879aA30690B7E6c28f   \n",
       "\n",
       "                                      creator  is_rp  \\\n",
       "0  0xfca08fd2057a995cd270f22076c902b5cd2b4237      0   \n",
       "1  0x36469e4e6ec2fb3e06db1d747f3fc1f1fc762f02      0   \n",
       "2  0x36469e4e6ec2fb3e06db1d747f3fc1f1fc762f02      0   \n",
       "3  0x36469e4e6ec2fb3e06db1d747f3fc1f1fc762f02      0   \n",
       "4  0x36469e4e6ec2fb3e06db1d747f3fc1f1fc762f02      0   \n",
       "\n",
       "                                       token0  \\\n",
       "0  0x0e09fabb73bd3ade0a17ecc321fd13a19e81ce82   \n",
       "1  0x0e09fabb73bd3ade0a17ecc321fd13a19e81ce82   \n",
       "2  0xbb4cdb9cbd36b01bd1cbaebf2de08d9173bc095c   \n",
       "3  0x3ee2200efb3400fabb9aacf31297cbdd1d435d47   \n",
       "4  0xad6caeb32cd2c308980a548bd0bc5aa4306c6c18   \n",
       "\n",
       "                                       token1 scam_token  \n",
       "0  0xe9e7cea3dedca5984780bafc599bd69add087d56        NaN  \n",
       "1  0xbb4cdb9cbd36b01bd1cbaebf2de08d9173bc095c        NaN  \n",
       "2  0xe9e7cea3dedca5984780bafc599bd69add087d56        NaN  \n",
       "3  0xbb4cdb9cbd36b01bd1cbaebf2de08d9173bc095c        NaN  \n",
       "4  0xbb4cdb9cbd36b01bd1cbaebf2de08d9173bc095c        NaN  "
      ],
      "text/html": [
       "<div>\n",
       "<style scoped>\n",
       "    .dataframe tbody tr th:only-of-type {\n",
       "        vertical-align: middle;\n",
       "    }\n",
       "\n",
       "    .dataframe tbody tr th {\n",
       "        vertical-align: top;\n",
       "    }\n",
       "\n",
       "    .dataframe thead th {\n",
       "        text-align: right;\n",
       "    }\n",
       "</style>\n",
       "<table border=\"1\" class=\"dataframe\">\n",
       "  <thead>\n",
       "    <tr style=\"text-align: right;\">\n",
       "      <th></th>\n",
       "      <th>pool</th>\n",
       "      <th>creator</th>\n",
       "      <th>is_rp</th>\n",
       "      <th>token0</th>\n",
       "      <th>token1</th>\n",
       "      <th>scam_token</th>\n",
       "    </tr>\n",
       "  </thead>\n",
       "  <tbody>\n",
       "    <tr>\n",
       "      <th>0</th>\n",
       "      <td>0x804678fa97d91B974ec2af3c843270886528a9E6</td>\n",
       "      <td>0xfca08fd2057a995cd270f22076c902b5cd2b4237</td>\n",
       "      <td>0</td>\n",
       "      <td>0x0e09fabb73bd3ade0a17ecc321fd13a19e81ce82</td>\n",
       "      <td>0xe9e7cea3dedca5984780bafc599bd69add087d56</td>\n",
       "      <td>NaN</td>\n",
       "    </tr>\n",
       "    <tr>\n",
       "      <th>1</th>\n",
       "      <td>0x0eD7e52944161450477ee417DE9Cd3a859b14fD0</td>\n",
       "      <td>0x36469e4e6ec2fb3e06db1d747f3fc1f1fc762f02</td>\n",
       "      <td>0</td>\n",
       "      <td>0x0e09fabb73bd3ade0a17ecc321fd13a19e81ce82</td>\n",
       "      <td>0xbb4cdb9cbd36b01bd1cbaebf2de08d9173bc095c</td>\n",
       "      <td>NaN</td>\n",
       "    </tr>\n",
       "    <tr>\n",
       "      <th>2</th>\n",
       "      <td>0x58F876857a02D6762E0101bb5C46A8c1ED44Dc16</td>\n",
       "      <td>0x36469e4e6ec2fb3e06db1d747f3fc1f1fc762f02</td>\n",
       "      <td>0</td>\n",
       "      <td>0xbb4cdb9cbd36b01bd1cbaebf2de08d9173bc095c</td>\n",
       "      <td>0xe9e7cea3dedca5984780bafc599bd69add087d56</td>\n",
       "      <td>NaN</td>\n",
       "    </tr>\n",
       "    <tr>\n",
       "      <th>3</th>\n",
       "      <td>0x28415ff2C35b65B9E5c7de82126b4015ab9d031F</td>\n",
       "      <td>0x36469e4e6ec2fb3e06db1d747f3fc1f1fc762f02</td>\n",
       "      <td>0</td>\n",
       "      <td>0x3ee2200efb3400fabb9aacf31297cbdd1d435d47</td>\n",
       "      <td>0xbb4cdb9cbd36b01bd1cbaebf2de08d9173bc095c</td>\n",
       "      <td>NaN</td>\n",
       "    </tr>\n",
       "    <tr>\n",
       "      <th>4</th>\n",
       "      <td>0x168B273278F3A8d302De5E879aA30690B7E6c28f</td>\n",
       "      <td>0x36469e4e6ec2fb3e06db1d747f3fc1f1fc762f02</td>\n",
       "      <td>0</td>\n",
       "      <td>0xad6caeb32cd2c308980a548bd0bc5aa4306c6c18</td>\n",
       "      <td>0xbb4cdb9cbd36b01bd1cbaebf2de08d9173bc095c</td>\n",
       "      <td>NaN</td>\n",
       "    </tr>\n",
       "  </tbody>\n",
       "</table>\n",
       "</div>"
      ]
     },
     "metadata": {},
     "output_type": "display_data"
    }
   ],
   "execution_count": 33
  },
  {
   "metadata": {
    "ExecuteTime": {
     "end_time": "2024-10-07T06:20:01.388689Z",
     "start_time": "2024-10-07T06:20:01.359289Z"
    }
   },
   "cell_type": "code",
   "source": [
    "rp = df[df[\"is_rp\"] == 1]\n",
    "rp"
   ],
   "id": "82731a1ce63bd4a0",
   "outputs": [
    {
     "data": {
      "text/plain": [
       "                                               pool  \\\n",
       "116      0x45c0a88988f33123794DAb66c232c00e7C1DdCd5   \n",
       "119      0xC403605005e2C878914ee9FEAD840490a961782b   \n",
       "143      0xaaBd4586Ed416E14EBe6321523883EC36E387a47   \n",
       "175      0x00A02E8AE70e1EE6b95900c162084111e54C8306   \n",
       "188      0xaaE089869A32fD6826CeA32D416FdDF79B1F8644   \n",
       "...                                             ...   \n",
       "1609080  0x8f06f166C3713f6F39acF6c6Cb596C4D98F6ab61   \n",
       "1609095  0x3f3033f63d8985833be4492AeA07bA784C27AD50   \n",
       "1609273  0xd76F31Ef55BedEE19d6649f444100D243a28B8b7   \n",
       "1609294  0x91b6aF946373E7c43DB836752cE1a55eb9F1Ad22   \n",
       "1609344  0x3e28B2089CcBB169a61A2120d1203a3DaC86E14F   \n",
       "\n",
       "                                            creator  is_rp  \\\n",
       "116      0xecaace2c92afe113057c1bf66c78ccd08e20d249      1   \n",
       "119      0x7fb0792ad88320711270f219510bc3be928293c2      1   \n",
       "143      0xecaace2c92afe113057c1bf66c78ccd08e20d249      1   \n",
       "175      0x95dff9d572a5503885b8f338a3fcc7fce1049081      1   \n",
       "188      0xd5bb7f22696b759d28ce767d0249a98ceaf29474      1   \n",
       "...                                             ...    ...   \n",
       "1609080  0xe582fd2a5101de759ba5879c181fa6ed12c1a315      1   \n",
       "1609095  0x1b9a61d35f6b0422185bc57535550156ae801396      1   \n",
       "1609273  0xeb601b9ddb3d15146fba090d39ec202a4fb650ad      1   \n",
       "1609294  0x249ae5bd8bf15ebb00a642044dc26d4a4868efa5      1   \n",
       "1609344  0x7d48c76df08395ed6bdcadc8aff14c80a026ea7d      1   \n",
       "\n",
       "                                             token0  \\\n",
       "116      0xbb4cdb9cbd36b01bd1cbaebf2de08d9173bc095c   \n",
       "119      0xbb4cdb9cbd36b01bd1cbaebf2de08d9173bc095c   \n",
       "143      0x3a5a4d66680a165863a9295f620ca17e17e8f0c1   \n",
       "175      0x0f3a658a5d78c684c5d6f4448eb12db206af3ef0   \n",
       "188      0x00f39213a7e6bd2badaada4c9e40bb4775e7ab88   \n",
       "...                                             ...   \n",
       "1609080  0x037776e89b9cd1dcdbe0213abd7634dbaadcec4c   \n",
       "1609095  0xaa11b45fae62ee62782d3d4275a8fe23e9d995ef   \n",
       "1609273  0xbb4cdb9cbd36b01bd1cbaebf2de08d9173bc095c   \n",
       "1609294  0xbb4cdb9cbd36b01bd1cbaebf2de08d9173bc095c   \n",
       "1609344  0x06c19e3c7c3c4a673eeca5a600c73e8fc0df53dc   \n",
       "\n",
       "                                             token1  \\\n",
       "116      0xef54802c87bb66bc61f069e3e9f5953e322cff58   \n",
       "119      0xd1c24bcabab5f01bcba2b44b6097ba506be67d6d   \n",
       "143      0xbb4cdb9cbd36b01bd1cbaebf2de08d9173bc095c   \n",
       "175      0xbb4cdb9cbd36b01bd1cbaebf2de08d9173bc095c   \n",
       "188      0xbb4cdb9cbd36b01bd1cbaebf2de08d9173bc095c   \n",
       "...                                             ...   \n",
       "1609080  0xbb4cdb9cbd36b01bd1cbaebf2de08d9173bc095c   \n",
       "1609095  0xbb4cdb9cbd36b01bd1cbaebf2de08d9173bc095c   \n",
       "1609273  0xeef5a93fc343bc031ac756f3226b6e9aa0b37af0   \n",
       "1609294  0xffbbd44efe59e80c980fc94d06a7fc449208ce3c   \n",
       "1609344  0xbb4cdb9cbd36b01bd1cbaebf2de08d9173bc095c   \n",
       "\n",
       "                                         scam_token  \n",
       "116      0xef54802c87bb66bc61f069e3e9f5953e322cff58  \n",
       "119      0xd1c24bcabab5f01bcba2b44b6097ba506be67d6d  \n",
       "143      0x3a5a4d66680a165863a9295f620ca17e17e8f0c1  \n",
       "175      0x0f3a658a5d78c684c5d6f4448eb12db206af3ef0  \n",
       "188      0x00f39213a7e6bd2badaada4c9e40bb4775e7ab88  \n",
       "...                                             ...  \n",
       "1609080  0x037776e89b9cd1dcdbe0213abd7634dbaadcec4c  \n",
       "1609095  0xaa11b45fae62ee62782d3d4275a8fe23e9d995ef  \n",
       "1609273  0xeef5a93fc343bc031ac756f3226b6e9aa0b37af0  \n",
       "1609294  0xffbbd44efe59e80c980fc94d06a7fc449208ce3c  \n",
       "1609344  0x06c19e3c7c3c4a673eeca5a600c73e8fc0df53dc  \n",
       "\n",
       "[103489 rows x 6 columns]"
      ],
      "text/html": [
       "<div>\n",
       "<style scoped>\n",
       "    .dataframe tbody tr th:only-of-type {\n",
       "        vertical-align: middle;\n",
       "    }\n",
       "\n",
       "    .dataframe tbody tr th {\n",
       "        vertical-align: top;\n",
       "    }\n",
       "\n",
       "    .dataframe thead th {\n",
       "        text-align: right;\n",
       "    }\n",
       "</style>\n",
       "<table border=\"1\" class=\"dataframe\">\n",
       "  <thead>\n",
       "    <tr style=\"text-align: right;\">\n",
       "      <th></th>\n",
       "      <th>pool</th>\n",
       "      <th>creator</th>\n",
       "      <th>is_rp</th>\n",
       "      <th>token0</th>\n",
       "      <th>token1</th>\n",
       "      <th>scam_token</th>\n",
       "    </tr>\n",
       "  </thead>\n",
       "  <tbody>\n",
       "    <tr>\n",
       "      <th>116</th>\n",
       "      <td>0x45c0a88988f33123794DAb66c232c00e7C1DdCd5</td>\n",
       "      <td>0xecaace2c92afe113057c1bf66c78ccd08e20d249</td>\n",
       "      <td>1</td>\n",
       "      <td>0xbb4cdb9cbd36b01bd1cbaebf2de08d9173bc095c</td>\n",
       "      <td>0xef54802c87bb66bc61f069e3e9f5953e322cff58</td>\n",
       "      <td>0xef54802c87bb66bc61f069e3e9f5953e322cff58</td>\n",
       "    </tr>\n",
       "    <tr>\n",
       "      <th>119</th>\n",
       "      <td>0xC403605005e2C878914ee9FEAD840490a961782b</td>\n",
       "      <td>0x7fb0792ad88320711270f219510bc3be928293c2</td>\n",
       "      <td>1</td>\n",
       "      <td>0xbb4cdb9cbd36b01bd1cbaebf2de08d9173bc095c</td>\n",
       "      <td>0xd1c24bcabab5f01bcba2b44b6097ba506be67d6d</td>\n",
       "      <td>0xd1c24bcabab5f01bcba2b44b6097ba506be67d6d</td>\n",
       "    </tr>\n",
       "    <tr>\n",
       "      <th>143</th>\n",
       "      <td>0xaaBd4586Ed416E14EBe6321523883EC36E387a47</td>\n",
       "      <td>0xecaace2c92afe113057c1bf66c78ccd08e20d249</td>\n",
       "      <td>1</td>\n",
       "      <td>0x3a5a4d66680a165863a9295f620ca17e17e8f0c1</td>\n",
       "      <td>0xbb4cdb9cbd36b01bd1cbaebf2de08d9173bc095c</td>\n",
       "      <td>0x3a5a4d66680a165863a9295f620ca17e17e8f0c1</td>\n",
       "    </tr>\n",
       "    <tr>\n",
       "      <th>175</th>\n",
       "      <td>0x00A02E8AE70e1EE6b95900c162084111e54C8306</td>\n",
       "      <td>0x95dff9d572a5503885b8f338a3fcc7fce1049081</td>\n",
       "      <td>1</td>\n",
       "      <td>0x0f3a658a5d78c684c5d6f4448eb12db206af3ef0</td>\n",
       "      <td>0xbb4cdb9cbd36b01bd1cbaebf2de08d9173bc095c</td>\n",
       "      <td>0x0f3a658a5d78c684c5d6f4448eb12db206af3ef0</td>\n",
       "    </tr>\n",
       "    <tr>\n",
       "      <th>188</th>\n",
       "      <td>0xaaE089869A32fD6826CeA32D416FdDF79B1F8644</td>\n",
       "      <td>0xd5bb7f22696b759d28ce767d0249a98ceaf29474</td>\n",
       "      <td>1</td>\n",
       "      <td>0x00f39213a7e6bd2badaada4c9e40bb4775e7ab88</td>\n",
       "      <td>0xbb4cdb9cbd36b01bd1cbaebf2de08d9173bc095c</td>\n",
       "      <td>0x00f39213a7e6bd2badaada4c9e40bb4775e7ab88</td>\n",
       "    </tr>\n",
       "    <tr>\n",
       "      <th>...</th>\n",
       "      <td>...</td>\n",
       "      <td>...</td>\n",
       "      <td>...</td>\n",
       "      <td>...</td>\n",
       "      <td>...</td>\n",
       "      <td>...</td>\n",
       "    </tr>\n",
       "    <tr>\n",
       "      <th>1609080</th>\n",
       "      <td>0x8f06f166C3713f6F39acF6c6Cb596C4D98F6ab61</td>\n",
       "      <td>0xe582fd2a5101de759ba5879c181fa6ed12c1a315</td>\n",
       "      <td>1</td>\n",
       "      <td>0x037776e89b9cd1dcdbe0213abd7634dbaadcec4c</td>\n",
       "      <td>0xbb4cdb9cbd36b01bd1cbaebf2de08d9173bc095c</td>\n",
       "      <td>0x037776e89b9cd1dcdbe0213abd7634dbaadcec4c</td>\n",
       "    </tr>\n",
       "    <tr>\n",
       "      <th>1609095</th>\n",
       "      <td>0x3f3033f63d8985833be4492AeA07bA784C27AD50</td>\n",
       "      <td>0x1b9a61d35f6b0422185bc57535550156ae801396</td>\n",
       "      <td>1</td>\n",
       "      <td>0xaa11b45fae62ee62782d3d4275a8fe23e9d995ef</td>\n",
       "      <td>0xbb4cdb9cbd36b01bd1cbaebf2de08d9173bc095c</td>\n",
       "      <td>0xaa11b45fae62ee62782d3d4275a8fe23e9d995ef</td>\n",
       "    </tr>\n",
       "    <tr>\n",
       "      <th>1609273</th>\n",
       "      <td>0xd76F31Ef55BedEE19d6649f444100D243a28B8b7</td>\n",
       "      <td>0xeb601b9ddb3d15146fba090d39ec202a4fb650ad</td>\n",
       "      <td>1</td>\n",
       "      <td>0xbb4cdb9cbd36b01bd1cbaebf2de08d9173bc095c</td>\n",
       "      <td>0xeef5a93fc343bc031ac756f3226b6e9aa0b37af0</td>\n",
       "      <td>0xeef5a93fc343bc031ac756f3226b6e9aa0b37af0</td>\n",
       "    </tr>\n",
       "    <tr>\n",
       "      <th>1609294</th>\n",
       "      <td>0x91b6aF946373E7c43DB836752cE1a55eb9F1Ad22</td>\n",
       "      <td>0x249ae5bd8bf15ebb00a642044dc26d4a4868efa5</td>\n",
       "      <td>1</td>\n",
       "      <td>0xbb4cdb9cbd36b01bd1cbaebf2de08d9173bc095c</td>\n",
       "      <td>0xffbbd44efe59e80c980fc94d06a7fc449208ce3c</td>\n",
       "      <td>0xffbbd44efe59e80c980fc94d06a7fc449208ce3c</td>\n",
       "    </tr>\n",
       "    <tr>\n",
       "      <th>1609344</th>\n",
       "      <td>0x3e28B2089CcBB169a61A2120d1203a3DaC86E14F</td>\n",
       "      <td>0x7d48c76df08395ed6bdcadc8aff14c80a026ea7d</td>\n",
       "      <td>1</td>\n",
       "      <td>0x06c19e3c7c3c4a673eeca5a600c73e8fc0df53dc</td>\n",
       "      <td>0xbb4cdb9cbd36b01bd1cbaebf2de08d9173bc095c</td>\n",
       "      <td>0x06c19e3c7c3c4a673eeca5a600c73e8fc0df53dc</td>\n",
       "    </tr>\n",
       "  </tbody>\n",
       "</table>\n",
       "<p>103489 rows × 6 columns</p>\n",
       "</div>"
      ]
     },
     "execution_count": 34,
     "metadata": {},
     "output_type": "execute_result"
    }
   ],
   "execution_count": 34
  },
  {
   "metadata": {
    "ExecuteTime": {
     "end_time": "2024-10-05T05:19:44.331665Z",
     "start_time": "2024-10-05T05:19:43.566611Z"
    }
   },
   "cell_type": "code",
   "source": [
    "pcs = pd.read_csv(os.path.join(path.panv2_processed_path, \"1_pair_scammers.csv\"))\n",
    "print(\"Pancake unique scammers\", len(pcs[\"scammer\"].unique()))\n",
    "uns = pd.read_csv(os.path.join(path.univ2_processed_path, \"1_pair_scammers.csv\"))\n",
    "print(\"Uniswap unique scammers\", len(uns[\"scammer\"].unique()))\n",
    "print(\"Total unique scammers\", len(uns[\"scammer\"].unique())+len(uns[\"scammer\"].unique()))"
   ],
   "id": "fd09b8d9cfa361de",
   "outputs": [
    {
     "name": "stdout",
     "output_type": "stream",
     "text": [
      "Pancake unique scammers 244874\n",
      "Uniswap unique scammers 190958\n",
      "Total unique scammers 381916\n"
     ]
    }
   ],
   "execution_count": 7
  },
  {
   "metadata": {
    "ExecuteTime": {
     "end_time": "2024-10-07T07:07:05.019764Z",
     "start_time": "2024-10-07T06:55:52.695519Z"
    }
   },
   "cell_type": "code",
   "source": [
    "from tqdm import tqdm\n",
    "from data_collection.AccountCollector import TransactionCollector \n",
    "uns = pd.read_csv(os.path.join(path.univ2_processed_path, \"filtered_simple_rp_scammers.csv\"))\n",
    "print(\"Uniswap unique scammers\", len(uns[\"scammer\"].unique()))\n",
    "collector = TransactionCollector()\n",
    "scammers = uns[\"scammer\"].unique()\n",
    "scammer_pools = uns.groupby(\"scammer\")[\"pool\"].apply(list).to_dict()\n",
    "ntxs = []\n",
    "for scammer in tqdm(scammers):\n",
    "    nor_txs, int_txs = collector.get_transactions(scammer)\n",
    "    pools = scammer_pools[scammer]\n",
    "    ntxs.append({\"scammer\":scammer, \"num_normal_txs\": len(nor_txs), \"num_pools\": len(pools), \"pools\": \";\".join(pools)})\n",
    "ntxs_df = pd.DataFrame(ntxs)\n",
    "ntxs_df.to_csv(\"filtered_simple_scammer_txs_size.csv\", index=False)\n",
    "ntxs_df = pd.read_csv(\"filtered_simple_scammer_txs_size.csv\")\n",
    "display(ntxs_df.head())"
   ],
   "id": "569987a8b8a7bbaf",
   "outputs": [
    {
     "name": "stdout",
     "output_type": "stream",
     "text": [
      "Uniswap unique scammers 176751\n"
     ]
    },
    {
     "name": "stderr",
     "output_type": "stream",
     "text": [
      "100%|██████████| 176751/176751 [11:08<00:00, 264.27it/s]\n"
     ]
    },
    {
     "data": {
      "text/plain": [
       "                                      scammer  num_normal_txs  num_pools  \\\n",
       "0  0xe2772341c3ca68f332ec8d68d13b5ebae3dd26d8             219          1   \n",
       "1  0x6f9ff1f95bde025e3d5e4633304fa8c29ea8acf8              14          1   \n",
       "2  0xc1ff218cb1355e6c7b25e8144252cc5ea3c08d9f              16          1   \n",
       "3  0xae9943ffb0ea5959ddbf7bbe93d246c861d4c939              11          1   \n",
       "4  0xcb114805b901f7a9c38d5675272ef26459a7d805            5114          1   \n",
       "\n",
       "                                        pools  \n",
       "0  0x2F2399AfBcF979cA3D92a3158562C9A397b28D06  \n",
       "1  0x0e2129c1bDbb0AfaA6Be1ed53650B267C0FB5556  \n",
       "2  0x7f6fe5c9FF1F9D46B29B79537D9ce6337127DFE0  \n",
       "3  0x083B344D961D4Ab3823ACceC60253ec6c4bdB511  \n",
       "4  0x441d3A8eA2076ad7326E91f52704CBE00C911F73  "
      ],
      "text/html": [
       "<div>\n",
       "<style scoped>\n",
       "    .dataframe tbody tr th:only-of-type {\n",
       "        vertical-align: middle;\n",
       "    }\n",
       "\n",
       "    .dataframe tbody tr th {\n",
       "        vertical-align: top;\n",
       "    }\n",
       "\n",
       "    .dataframe thead th {\n",
       "        text-align: right;\n",
       "    }\n",
       "</style>\n",
       "<table border=\"1\" class=\"dataframe\">\n",
       "  <thead>\n",
       "    <tr style=\"text-align: right;\">\n",
       "      <th></th>\n",
       "      <th>scammer</th>\n",
       "      <th>num_normal_txs</th>\n",
       "      <th>num_pools</th>\n",
       "      <th>pools</th>\n",
       "    </tr>\n",
       "  </thead>\n",
       "  <tbody>\n",
       "    <tr>\n",
       "      <th>0</th>\n",
       "      <td>0xe2772341c3ca68f332ec8d68d13b5ebae3dd26d8</td>\n",
       "      <td>219</td>\n",
       "      <td>1</td>\n",
       "      <td>0x2F2399AfBcF979cA3D92a3158562C9A397b28D06</td>\n",
       "    </tr>\n",
       "    <tr>\n",
       "      <th>1</th>\n",
       "      <td>0x6f9ff1f95bde025e3d5e4633304fa8c29ea8acf8</td>\n",
       "      <td>14</td>\n",
       "      <td>1</td>\n",
       "      <td>0x0e2129c1bDbb0AfaA6Be1ed53650B267C0FB5556</td>\n",
       "    </tr>\n",
       "    <tr>\n",
       "      <th>2</th>\n",
       "      <td>0xc1ff218cb1355e6c7b25e8144252cc5ea3c08d9f</td>\n",
       "      <td>16</td>\n",
       "      <td>1</td>\n",
       "      <td>0x7f6fe5c9FF1F9D46B29B79537D9ce6337127DFE0</td>\n",
       "    </tr>\n",
       "    <tr>\n",
       "      <th>3</th>\n",
       "      <td>0xae9943ffb0ea5959ddbf7bbe93d246c861d4c939</td>\n",
       "      <td>11</td>\n",
       "      <td>1</td>\n",
       "      <td>0x083B344D961D4Ab3823ACceC60253ec6c4bdB511</td>\n",
       "    </tr>\n",
       "    <tr>\n",
       "      <th>4</th>\n",
       "      <td>0xcb114805b901f7a9c38d5675272ef26459a7d805</td>\n",
       "      <td>5114</td>\n",
       "      <td>1</td>\n",
       "      <td>0x441d3A8eA2076ad7326E91f52704CBE00C911F73</td>\n",
       "    </tr>\n",
       "  </tbody>\n",
       "</table>\n",
       "</div>"
      ]
     },
     "metadata": {},
     "output_type": "display_data"
    }
   ],
   "execution_count": 41
  },
  {
   "metadata": {
    "ExecuteTime": {
     "end_time": "2024-10-07T07:21:24.566160Z",
     "start_time": "2024-10-07T07:21:24.559942Z"
    }
   },
   "cell_type": "code",
   "source": [
    "zero_txs_scammers = ntxs_df[ntxs_df[\"num_normal_txs\"] == 0]\n",
    "display(zero_txs_scammers)"
   ],
   "id": "b8c027388660931",
   "outputs": [
    {
     "data": {
      "text/plain": [
       "Empty DataFrame\n",
       "Columns: [scammer, num_normal_txs, num_pools, pools]\n",
       "Index: []"
      ],
      "text/html": [
       "<div>\n",
       "<style scoped>\n",
       "    .dataframe tbody tr th:only-of-type {\n",
       "        vertical-align: middle;\n",
       "    }\n",
       "\n",
       "    .dataframe tbody tr th {\n",
       "        vertical-align: top;\n",
       "    }\n",
       "\n",
       "    .dataframe thead th {\n",
       "        text-align: right;\n",
       "    }\n",
       "</style>\n",
       "<table border=\"1\" class=\"dataframe\">\n",
       "  <thead>\n",
       "    <tr style=\"text-align: right;\">\n",
       "      <th></th>\n",
       "      <th>scammer</th>\n",
       "      <th>num_normal_txs</th>\n",
       "      <th>num_pools</th>\n",
       "      <th>pools</th>\n",
       "    </tr>\n",
       "  </thead>\n",
       "  <tbody>\n",
       "  </tbody>\n",
       "</table>\n",
       "</div>"
      ]
     },
     "metadata": {},
     "output_type": "display_data"
    }
   ],
   "execution_count": 42
  },
  {
   "metadata": {
    "ExecuteTime": {
     "end_time": "2024-10-07T07:21:57.694969Z",
     "start_time": "2024-10-07T07:21:57.687408Z"
    }
   },
   "cell_type": "code",
   "source": [
    "over_thoundsandscammers = ntxs_df[ntxs_df[\"num_normal_txs\"] > 1000]\n",
    "over_thoundsandscammers"
   ],
   "id": "e8ca385a11669b28",
   "outputs": [
    {
     "data": {
      "text/plain": [
       "                                           scammer  num_normal_txs  num_pools  \\\n",
       "4       0xcb114805b901f7a9c38d5675272ef26459a7d805            5114          1   \n",
       "8       0x1a87b5ccb1c8257815bd2b0a87c899fac59ca598            5799          1   \n",
       "10      0x21fb8e54a34f462c3642b5dc3e529206fdf7b324            1230          2   \n",
       "13      0x89e2aebc454556f60f2b6facd1746bcb58f0b4f3            2217          1   \n",
       "16      0x5d63095cd6a33b626ba08d121c889bd987dbba1c            1937          4   \n",
       "...                                            ...             ...        ...   \n",
       "172676  0xcc9c0cc7ba8fe212126a96b7bbef8bc62c53a13f            3807          1   \n",
       "173406  0x9f49eb2d0d0c3065357b2deb39c18aca1b4cc2b9            1777          4   \n",
       "174684  0x566842a1eb3dfa231574146f86aa2718850da5e2            2501          1   \n",
       "174849  0x33e6d5c35117e00d66a656fae0be45621a964df9            1557          2   \n",
       "175087  0xeaeec76237f9811f603be422c4fcbe28f43cf64b            1291          1   \n",
       "\n",
       "                                                    pools  \n",
       "4              0x441d3A8eA2076ad7326E91f52704CBE00C911F73  \n",
       "8              0xd5662ABf455beB1d81Ba46d62a82cb3D03e471fC  \n",
       "10      0x14583f97FD7097fd70Bc57c2a35A77EaC9D1b27c;0xC...  \n",
       "13             0x497f4633dDfAcfc481f8C8cfA39F49bcf45b17F8  \n",
       "16      0x3fF6d7ADD4508d258e192AADC9eD1371869a4aB9;0x9...  \n",
       "...                                                   ...  \n",
       "172676         0xC81950F7555d596913d0aB999681b59B43BABc8b  \n",
       "173406  0xb34CCBa001997C31f2d9f51e7fc408D0bEa779B3;0x2...  \n",
       "174684         0x870352716AfbDec3cE29450D57f06c3060947434  \n",
       "174849  0xa86af204A3892FB71D5f87AD7bE0fe77D8236406;0x4...  \n",
       "175087         0xf972c4E7617579E61DebB26996Fc9E91f2c147A6  \n",
       "\n",
       "[506 rows x 4 columns]"
      ],
      "text/html": [
       "<div>\n",
       "<style scoped>\n",
       "    .dataframe tbody tr th:only-of-type {\n",
       "        vertical-align: middle;\n",
       "    }\n",
       "\n",
       "    .dataframe tbody tr th {\n",
       "        vertical-align: top;\n",
       "    }\n",
       "\n",
       "    .dataframe thead th {\n",
       "        text-align: right;\n",
       "    }\n",
       "</style>\n",
       "<table border=\"1\" class=\"dataframe\">\n",
       "  <thead>\n",
       "    <tr style=\"text-align: right;\">\n",
       "      <th></th>\n",
       "      <th>scammer</th>\n",
       "      <th>num_normal_txs</th>\n",
       "      <th>num_pools</th>\n",
       "      <th>pools</th>\n",
       "    </tr>\n",
       "  </thead>\n",
       "  <tbody>\n",
       "    <tr>\n",
       "      <th>4</th>\n",
       "      <td>0xcb114805b901f7a9c38d5675272ef26459a7d805</td>\n",
       "      <td>5114</td>\n",
       "      <td>1</td>\n",
       "      <td>0x441d3A8eA2076ad7326E91f52704CBE00C911F73</td>\n",
       "    </tr>\n",
       "    <tr>\n",
       "      <th>8</th>\n",
       "      <td>0x1a87b5ccb1c8257815bd2b0a87c899fac59ca598</td>\n",
       "      <td>5799</td>\n",
       "      <td>1</td>\n",
       "      <td>0xd5662ABf455beB1d81Ba46d62a82cb3D03e471fC</td>\n",
       "    </tr>\n",
       "    <tr>\n",
       "      <th>10</th>\n",
       "      <td>0x21fb8e54a34f462c3642b5dc3e529206fdf7b324</td>\n",
       "      <td>1230</td>\n",
       "      <td>2</td>\n",
       "      <td>0x14583f97FD7097fd70Bc57c2a35A77EaC9D1b27c;0xC...</td>\n",
       "    </tr>\n",
       "    <tr>\n",
       "      <th>13</th>\n",
       "      <td>0x89e2aebc454556f60f2b6facd1746bcb58f0b4f3</td>\n",
       "      <td>2217</td>\n",
       "      <td>1</td>\n",
       "      <td>0x497f4633dDfAcfc481f8C8cfA39F49bcf45b17F8</td>\n",
       "    </tr>\n",
       "    <tr>\n",
       "      <th>16</th>\n",
       "      <td>0x5d63095cd6a33b626ba08d121c889bd987dbba1c</td>\n",
       "      <td>1937</td>\n",
       "      <td>4</td>\n",
       "      <td>0x3fF6d7ADD4508d258e192AADC9eD1371869a4aB9;0x9...</td>\n",
       "    </tr>\n",
       "    <tr>\n",
       "      <th>...</th>\n",
       "      <td>...</td>\n",
       "      <td>...</td>\n",
       "      <td>...</td>\n",
       "      <td>...</td>\n",
       "    </tr>\n",
       "    <tr>\n",
       "      <th>172676</th>\n",
       "      <td>0xcc9c0cc7ba8fe212126a96b7bbef8bc62c53a13f</td>\n",
       "      <td>3807</td>\n",
       "      <td>1</td>\n",
       "      <td>0xC81950F7555d596913d0aB999681b59B43BABc8b</td>\n",
       "    </tr>\n",
       "    <tr>\n",
       "      <th>173406</th>\n",
       "      <td>0x9f49eb2d0d0c3065357b2deb39c18aca1b4cc2b9</td>\n",
       "      <td>1777</td>\n",
       "      <td>4</td>\n",
       "      <td>0xb34CCBa001997C31f2d9f51e7fc408D0bEa779B3;0x2...</td>\n",
       "    </tr>\n",
       "    <tr>\n",
       "      <th>174684</th>\n",
       "      <td>0x566842a1eb3dfa231574146f86aa2718850da5e2</td>\n",
       "      <td>2501</td>\n",
       "      <td>1</td>\n",
       "      <td>0x870352716AfbDec3cE29450D57f06c3060947434</td>\n",
       "    </tr>\n",
       "    <tr>\n",
       "      <th>174849</th>\n",
       "      <td>0x33e6d5c35117e00d66a656fae0be45621a964df9</td>\n",
       "      <td>1557</td>\n",
       "      <td>2</td>\n",
       "      <td>0xa86af204A3892FB71D5f87AD7bE0fe77D8236406;0x4...</td>\n",
       "    </tr>\n",
       "    <tr>\n",
       "      <th>175087</th>\n",
       "      <td>0xeaeec76237f9811f603be422c4fcbe28f43cf64b</td>\n",
       "      <td>1291</td>\n",
       "      <td>1</td>\n",
       "      <td>0xf972c4E7617579E61DebB26996Fc9E91f2c147A6</td>\n",
       "    </tr>\n",
       "  </tbody>\n",
       "</table>\n",
       "<p>506 rows × 4 columns</p>\n",
       "</div>"
      ]
     },
     "execution_count": 44,
     "metadata": {},
     "output_type": "execute_result"
    }
   ],
   "execution_count": 44
  },
  {
   "metadata": {
    "ExecuteTime": {
     "end_time": "2024-10-07T03:17:42.175033Z",
     "start_time": "2024-10-07T03:16:28.581879Z"
    }
   },
   "cell_type": "code",
   "source": [
    "normal_txs, internal_txs = collector.get_transactions(\"0x7059010320d07a47d2ad54db88bb89ea644c3e6f\")\n",
    "print(normal_txs)"
   ],
   "id": "6b0d0c08519584a",
   "outputs": [
    {
     "name": "stdout",
     "output_type": "stream",
     "text": [
      "[]\n"
     ]
    }
   ],
   "execution_count": 25
  }
 ],
 "metadata": {
  "kernelspec": {
   "display_name": "Python 3",
   "language": "python",
   "name": "python3"
  },
  "language_info": {
   "codemirror_mode": {
    "name": "ipython",
    "version": 2
   },
   "file_extension": ".py",
   "mimetype": "text/x-python",
   "name": "python",
   "nbconvert_exporter": "python",
   "pygments_lexer": "ipython2",
   "version": "2.7.6"
  }
 },
 "nbformat": 4,
 "nbformat_minor": 5
}
