{
 "cells": [
  {
   "cell_type": "code",
   "id": "initial_id",
   "metadata": {
    "collapsed": true,
    "ExecuteTime": {
     "end_time": "2024-10-03T11:26:18.790779Z",
     "start_time": "2024-10-03T11:25:28.430813Z"
    }
   },
   "source": [
    "import os\n",
    "import pandas as pd\n",
    "from utils.DataLoader import DataLoader\n",
    "from utils.Settings import Setting\n",
    "from utils.ProjectPath import ProjectPath\n",
    "from utils import Utils as ut\n",
    "\n",
    "path = ProjectPath()\n",
    "setting = Setting()\n",
    "dataloader = DataLoader()\n",
    "\n",
    "cluster_path = path.univ2_cluster_path\n",
    "cluster_file_template = \"cluster_{}.csv\" \n",
    "suspicious_file_template = \"cluster_{}_suspicious_nodes.csv\" "
   ],
   "outputs": [
    {
     "name": "stdout",
     "output_type": "stream",
     "text": [
      "ENVIRONMENT VARIABLES\n",
      "DATA PATH: /mnt/Storage/Data/Blockchain/DEX\n",
      "LOAD END NODES\n",
      "LOAD CREATION INFO\n"
     ]
    },
    {
     "name": "stderr",
     "output_type": "stream",
     "text": [
      "/home/dustin/Projects/SerialScammer/main/utils/DataLoader.py:124: SettingWithCopyWarning: \n",
      "A value is trying to be set on a copy of a slice from a DataFrame.\n",
      "Try using .loc[row_indexer,col_indexer] = value instead\n",
      "\n",
      "See the caveats in the documentation: https://pandas.pydata.org/pandas-docs/stable/user_guide/indexing.html#returning-a-view-versus-a-copy\n",
      "  tokens[\"token0\"] = tokens[\"token0\"].str.lower()\n",
      "/home/dustin/Projects/SerialScammer/main/utils/DataLoader.py:125: SettingWithCopyWarning: \n",
      "A value is trying to be set on a copy of a slice from a DataFrame.\n",
      "Try using .loc[row_indexer,col_indexer] = value instead\n",
      "\n",
      "See the caveats in the documentation: https://pandas.pydata.org/pandas-docs/stable/user_guide/indexing.html#returning-a-view-versus-a-copy\n",
      "  tokens[\"token1\"] = tokens[\"token1\"].str.lower()\n"
     ]
    },
    {
     "name": "stdout",
     "output_type": "stream",
     "text": [
      "LOAD RUG PULL INFO\n"
     ]
    }
   ],
   "execution_count": 3
  },
  {
   "metadata": {
    "ExecuteTime": {
     "end_time": "2024-10-03T12:25:34.777405Z",
     "start_time": "2024-10-03T12:25:34.627048Z"
    }
   },
   "cell_type": "code",
   "source": [
    "group = 3\n",
    "cluster_file = os.path.join(cluster_path, cluster_file_template.format(group))\n",
    "suspicious_file = os.path.join(cluster_path, suspicious_file_template.format(group))\n",
    "cluster = pd.read_csv(cluster_file)\n",
    "suspicious_node = pd.read_csv(suspicious_file)\n",
    "display(cluster.head())\n",
    "display(suspicious_node.head())"
   ],
   "id": "b2b27bd05e0e3e0b",
   "outputs": [
    {
     "data": {
      "text/plain": [
       "                                      address  normal_txs_len  \\\n",
       "0  0xedf646b301f0aab814af6cedf4f7a3cbff746be3               9   \n",
       "1  0xc99aa74da1c54e0be903f23ebac59f7ce6f29d93              23   \n",
       "2  0x1ddf167010dd283f31325659c112dafb6f8b849b               4   \n",
       "3  0x1bcff207d1a8bb476429bf42570f9f5de4a28c28               4   \n",
       "4  0xa3d6a8789cb8ed5eaea0fb9b25a2d435f5fda17c               4   \n",
       "\n",
       "   valid_neighbours_len                                   valid_neighbours  \\\n",
       "0                     2  0xc99aa74da1c54e0be903f23ebac59f7ce6f29d93;0xe...   \n",
       "1                    16  0x1ddf167010dd283f31325659c112dafb6f8b849b;0x1...   \n",
       "2                     2  0xc99aa74da1c54e0be903f23ebac59f7ce6f29d93;0xe...   \n",
       "3                     2  0xc99aa74da1c54e0be903f23ebac59f7ce6f29d93;0xe...   \n",
       "4                     2  0xc99aa74da1c54e0be903f23ebac59f7ce6f29d93;0xe...   \n",
       "\n",
       "                  labels                                               path  \n",
       "0     withdrawer;scammer         0xedf646b301f0aab814af6cedf4f7a3cbff746be3  \n",
       "1  withdrawer;washtrader  0xedf646b301f0aab814af6cedf4f7a3cbff746be3;0xc...  \n",
       "2             washtrader  0xedf646b301f0aab814af6cedf4f7a3cbff746be3;0xc...  \n",
       "3             washtrader  0xedf646b301f0aab814af6cedf4f7a3cbff746be3;0xc...  \n",
       "4             washtrader  0xedf646b301f0aab814af6cedf4f7a3cbff746be3;0xc...  "
      ],
      "text/html": [
       "<div>\n",
       "<style scoped>\n",
       "    .dataframe tbody tr th:only-of-type {\n",
       "        vertical-align: middle;\n",
       "    }\n",
       "\n",
       "    .dataframe tbody tr th {\n",
       "        vertical-align: top;\n",
       "    }\n",
       "\n",
       "    .dataframe thead th {\n",
       "        text-align: right;\n",
       "    }\n",
       "</style>\n",
       "<table border=\"1\" class=\"dataframe\">\n",
       "  <thead>\n",
       "    <tr style=\"text-align: right;\">\n",
       "      <th></th>\n",
       "      <th>address</th>\n",
       "      <th>normal_txs_len</th>\n",
       "      <th>valid_neighbours_len</th>\n",
       "      <th>valid_neighbours</th>\n",
       "      <th>labels</th>\n",
       "      <th>path</th>\n",
       "    </tr>\n",
       "  </thead>\n",
       "  <tbody>\n",
       "    <tr>\n",
       "      <th>0</th>\n",
       "      <td>0xedf646b301f0aab814af6cedf4f7a3cbff746be3</td>\n",
       "      <td>9</td>\n",
       "      <td>2</td>\n",
       "      <td>0xc99aa74da1c54e0be903f23ebac59f7ce6f29d93;0xe...</td>\n",
       "      <td>withdrawer;scammer</td>\n",
       "      <td>0xedf646b301f0aab814af6cedf4f7a3cbff746be3</td>\n",
       "    </tr>\n",
       "    <tr>\n",
       "      <th>1</th>\n",
       "      <td>0xc99aa74da1c54e0be903f23ebac59f7ce6f29d93</td>\n",
       "      <td>23</td>\n",
       "      <td>16</td>\n",
       "      <td>0x1ddf167010dd283f31325659c112dafb6f8b849b;0x1...</td>\n",
       "      <td>withdrawer;washtrader</td>\n",
       "      <td>0xedf646b301f0aab814af6cedf4f7a3cbff746be3;0xc...</td>\n",
       "    </tr>\n",
       "    <tr>\n",
       "      <th>2</th>\n",
       "      <td>0x1ddf167010dd283f31325659c112dafb6f8b849b</td>\n",
       "      <td>4</td>\n",
       "      <td>2</td>\n",
       "      <td>0xc99aa74da1c54e0be903f23ebac59f7ce6f29d93;0xe...</td>\n",
       "      <td>washtrader</td>\n",
       "      <td>0xedf646b301f0aab814af6cedf4f7a3cbff746be3;0xc...</td>\n",
       "    </tr>\n",
       "    <tr>\n",
       "      <th>3</th>\n",
       "      <td>0x1bcff207d1a8bb476429bf42570f9f5de4a28c28</td>\n",
       "      <td>4</td>\n",
       "      <td>2</td>\n",
       "      <td>0xc99aa74da1c54e0be903f23ebac59f7ce6f29d93;0xe...</td>\n",
       "      <td>washtrader</td>\n",
       "      <td>0xedf646b301f0aab814af6cedf4f7a3cbff746be3;0xc...</td>\n",
       "    </tr>\n",
       "    <tr>\n",
       "      <th>4</th>\n",
       "      <td>0xa3d6a8789cb8ed5eaea0fb9b25a2d435f5fda17c</td>\n",
       "      <td>4</td>\n",
       "      <td>2</td>\n",
       "      <td>0xc99aa74da1c54e0be903f23ebac59f7ce6f29d93;0xe...</td>\n",
       "      <td>washtrader</td>\n",
       "      <td>0xedf646b301f0aab814af6cedf4f7a3cbff746be3;0xc...</td>\n",
       "    </tr>\n",
       "  </tbody>\n",
       "</table>\n",
       "</div>"
      ]
     },
     "metadata": {},
     "output_type": "display_data"
    },
    {
     "data": {
      "text/plain": [
       "                                      address  valid_neighbours  \\\n",
       "0  0xcc3337f6fe821a7a654552395e128e2c4fcabe31               127   \n",
       "1  0x68bec4525eb557f48c30eefec249b1d85706cf0c                90   \n",
       "2  0xb2cd290b0f0ddfd07fe19f8f5aa1474a51caf922               308   \n",
       "3  0x167c6a6948606e410cd79baac3be52d949cbcd3c               135   \n",
       "4  0x4b2b31b7a32a3d3bb894effc31b16abd400bd258                77   \n",
       "\n",
       "   normal_txs_len                                         labels  \n",
       "0             519             depositor;big_connector;withdrawer  \n",
       "1            1103            withdrawer;washtrader;big_connector  \n",
       "2            4895  depositor;washtrader;big_connector;withdrawer  \n",
       "3            2364            withdrawer;washtrader;big_connector  \n",
       "4             969    withdrawer;washtrader;scammer;big_connector  "
      ],
      "text/html": [
       "<div>\n",
       "<style scoped>\n",
       "    .dataframe tbody tr th:only-of-type {\n",
       "        vertical-align: middle;\n",
       "    }\n",
       "\n",
       "    .dataframe tbody tr th {\n",
       "        vertical-align: top;\n",
       "    }\n",
       "\n",
       "    .dataframe thead th {\n",
       "        text-align: right;\n",
       "    }\n",
       "</style>\n",
       "<table border=\"1\" class=\"dataframe\">\n",
       "  <thead>\n",
       "    <tr style=\"text-align: right;\">\n",
       "      <th></th>\n",
       "      <th>address</th>\n",
       "      <th>valid_neighbours</th>\n",
       "      <th>normal_txs_len</th>\n",
       "      <th>labels</th>\n",
       "    </tr>\n",
       "  </thead>\n",
       "  <tbody>\n",
       "    <tr>\n",
       "      <th>0</th>\n",
       "      <td>0xcc3337f6fe821a7a654552395e128e2c4fcabe31</td>\n",
       "      <td>127</td>\n",
       "      <td>519</td>\n",
       "      <td>depositor;big_connector;withdrawer</td>\n",
       "    </tr>\n",
       "    <tr>\n",
       "      <th>1</th>\n",
       "      <td>0x68bec4525eb557f48c30eefec249b1d85706cf0c</td>\n",
       "      <td>90</td>\n",
       "      <td>1103</td>\n",
       "      <td>withdrawer;washtrader;big_connector</td>\n",
       "    </tr>\n",
       "    <tr>\n",
       "      <th>2</th>\n",
       "      <td>0xb2cd290b0f0ddfd07fe19f8f5aa1474a51caf922</td>\n",
       "      <td>308</td>\n",
       "      <td>4895</td>\n",
       "      <td>depositor;washtrader;big_connector;withdrawer</td>\n",
       "    </tr>\n",
       "    <tr>\n",
       "      <th>3</th>\n",
       "      <td>0x167c6a6948606e410cd79baac3be52d949cbcd3c</td>\n",
       "      <td>135</td>\n",
       "      <td>2364</td>\n",
       "      <td>withdrawer;washtrader;big_connector</td>\n",
       "    </tr>\n",
       "    <tr>\n",
       "      <th>4</th>\n",
       "      <td>0x4b2b31b7a32a3d3bb894effc31b16abd400bd258</td>\n",
       "      <td>77</td>\n",
       "      <td>969</td>\n",
       "      <td>withdrawer;washtrader;scammer;big_connector</td>\n",
       "    </tr>\n",
       "  </tbody>\n",
       "</table>\n",
       "</div>"
      ]
     },
     "metadata": {},
     "output_type": "display_data"
    }
   ],
   "execution_count": 5
  },
  {
   "metadata": {},
   "cell_type": "code",
   "outputs": [],
   "execution_count": null,
   "source": "",
   "id": "e39694668847f158"
  }
 ],
 "metadata": {
  "kernelspec": {
   "display_name": "Python 3",
   "language": "python",
   "name": "python3"
  },
  "language_info": {
   "codemirror_mode": {
    "name": "ipython",
    "version": 2
   },
   "file_extension": ".py",
   "mimetype": "text/x-python",
   "name": "python",
   "nbconvert_exporter": "python",
   "pygments_lexer": "ipython2",
   "version": "2.7.6"
  }
 },
 "nbformat": 4,
 "nbformat_minor": 5
}
