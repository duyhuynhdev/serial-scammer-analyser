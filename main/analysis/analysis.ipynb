{
 "cells": [
  {
   "cell_type": "code",
   "id": "initial_id",
   "metadata": {
    "collapsed": true,
    "ExecuteTime": {
     "end_time": "2024-10-15T07:12:42.545689Z",
     "start_time": "2024-10-15T07:12:28.043220Z"
    }
   },
   "source": [
    "import os\n",
    "import pandas as pd\n",
    "\n",
    "from entity.LightNode import LightNode\n",
    "from utils.DataLoader import DataLoader\n",
    "from utils.Settings import Setting\n",
    "from utils.ProjectPath import ProjectPath\n",
    "from entity import LightCluster, LightNode\n",
    "\n",
    "path = ProjectPath()\n",
    "setting = Setting()\n",
    "dataloader = DataLoader()\n",
    "\n",
    "cluster_path = path.panv2_cluster_path\n",
    "cluster_file_template = \"cluster_{}.csv\"\n",
    "suspicious_file_template = \"cluster_{}_suspicious_nodes.csv\""
   ],
   "outputs": [
    {
     "name": "stdout",
     "output_type": "stream",
     "text": [
      "ENVIRONMENT VARIABLES\n",
      "DATA PATH: /mnt/Storage/Data/Blockchain/DEX\n",
      "LOAD END NODES\n",
      "LOAD CREATION INFO\n"
     ]
    },
    {
     "name": "stderr",
     "output_type": "stream",
     "text": [
      "/home/dustin/Projects/SerialScammer/main/utils/DataLoader.py:140: SettingWithCopyWarning: \n",
      "A value is trying to be set on a copy of a slice from a DataFrame.\n",
      "Try using .loc[row_indexer,col_indexer] = value instead\n",
      "\n",
      "See the caveats in the documentation: https://pandas.pydata.org/pandas-docs/stable/user_guide/indexing.html#returning-a-view-versus-a-copy\n",
      "  tokens[\"token0\"] = tokens[\"token0\"].str.lower()\n",
      "/home/dustin/Projects/SerialScammer/main/utils/DataLoader.py:141: SettingWithCopyWarning: \n",
      "A value is trying to be set on a copy of a slice from a DataFrame.\n",
      "Try using .loc[row_indexer,col_indexer] = value instead\n",
      "\n",
      "See the caveats in the documentation: https://pandas.pydata.org/pandas-docs/stable/user_guide/indexing.html#returning-a-view-versus-a-copy\n",
      "  tokens[\"token1\"] = tokens[\"token1\"].str.lower()\n"
     ]
    },
    {
     "name": "stdout",
     "output_type": "stream",
     "text": [
      "LOAD RUG PULL INFO\n"
     ]
    }
   ],
   "execution_count": 6
  },
  {
   "metadata": {
    "ExecuteTime": {
     "end_time": "2024-10-15T07:12:42.554700Z",
     "start_time": "2024-10-15T07:12:42.549371Z"
    }
   },
   "cell_type": "code",
   "source": [
    "def count_hops_from_source(source_address, paths: list):\n",
    "    source_address = source_address.lower()\n",
    "    if not source_address in paths:\n",
    "        return 0\n",
    "    return len(paths[paths.index(source_address):])\n",
    "\n",
    "\n",
    "def get_nodes_by_labels(root_label, target_labels, cluster: LightCluster):\n",
    "    root_label_nodes = []\n",
    "    target_label_nodes = dict()\n",
    "    for node in cluster.nodes.values():\n",
    "        if root_label in node.labels and not any(label in LightNode.LightNodeLabel.SKIP_LABELS for label in node.labels):\n",
    "            root_label_nodes.append(node)\n",
    "        for l in node.labels:\n",
    "            if l in target_labels:\n",
    "                nodes = []\n",
    "                if l in target_label_nodes.keys():\n",
    "                    nodes = target_label_nodes[l]\n",
    "                nodes.append(node)\n",
    "                target_label_nodes[l] = nodes\n",
    "    return root_label_nodes, target_label_nodes\n",
    "\n",
    "\n",
    "def find_impacts(root_node, target_nodes):\n",
    "    satisfied_nodes = []\n",
    "    hops = []\n",
    "    for node in target_nodes:\n",
    "        if root_node.address in node.path:\n",
    "            satisfied_nodes.append(node)\n",
    "            hops.append(count_hops_from_source(root_node.address, node.path))\n",
    "    return satisfied_nodes, hops\n",
    "\n",
    "\n",
    "def impact_analysis(root_label, target_labels, cluster: LightCluster):\n",
    "    root_label_nodes, target_label_nodes = get_nodes_by_labels(root_label, target_labels, cluster)\n",
    "    results = []\n",
    "    for root in root_label_nodes:\n",
    "        record = LightNode.LightNode.to_sort_dict(root)\n",
    "        impacts = []\n",
    "        for tl in target_label_nodes.keys():\n",
    "            tgn = target_label_nodes.get(tl)\n",
    "            satisfied_nodes, hops = find_impacts(root, tgn)\n",
    "            impacts.append({\"type\": tl, \"count\": len(satisfied_nodes), \"avg_distance\": sum(hops) / len(hops) if len(hops) > 0 else 0})\n",
    "        record[\"impacts\"] = impacts\n",
    "        results.append(record)\n",
    "    return results\n",
    "\n",
    "\n"
   ],
   "id": "b643d94109c4f0e5",
   "outputs": [],
   "execution_count": 7
  },
  {
   "metadata": {
    "ExecuteTime": {
     "end_time": "2024-10-15T07:12:42.600133Z",
     "start_time": "2024-10-15T07:12:42.597456Z"
    }
   },
   "cell_type": "code",
   "source": [
    "group_id = 3\n",
    "cluster = LightCluster.LightCluster(group_id)\n",
    "cluster.load(cluster_path)"
   ],
   "id": "b2b27bd05e0e3e0b",
   "outputs": [],
   "execution_count": 8
  },
  {
   "metadata": {
    "ExecuteTime": {
     "end_time": "2024-10-15T07:12:42.648784Z",
     "start_time": "2024-10-15T07:12:42.645194Z"
    }
   },
   "cell_type": "code",
   "source": [
    "results = impact_analysis(LightNode.LightNodeLabel.BIG_CONNECTOR, [LightNode.LightNodeLabel.BIG_CONNECTOR, LightNode.LightNodeLabel.SCAMMER, LightNode.LightNodeLabel.BIG_WASHTRADER], cluster)\n",
    "display(results)"
   ],
   "id": "e39694668847f158",
   "outputs": [
    {
     "data": {
      "text/plain": [
       "[]"
      ]
     },
     "metadata": {},
     "output_type": "display_data"
    }
   ],
   "execution_count": 9
  },
  {
   "metadata": {
    "ExecuteTime": {
     "end_time": "2024-10-15T07:12:43.060332Z",
     "start_time": "2024-10-15T07:12:42.696387Z"
    }
   },
   "cell_type": "code",
   "source": [
    "df = pd.read_csv(os.path.join(path.panv2_processed_path, \"1_pair_pool_labels.csv\"))\n",
    "display(df.head())"
   ],
   "id": "8a031ae7167adb53",
   "outputs": [
    {
     "ename": "FileNotFoundError",
     "evalue": "[Errno 2] No such file or directory: '/mnt/Storage/Data/Blockchain/DEX/pancakeswap/processed/1_pair_pool_labels.csv'",
     "output_type": "error",
     "traceback": [
      "\u001B[0;31m---------------------------------------------------------------------------\u001B[0m",
      "\u001B[0;31mFileNotFoundError\u001B[0m                         Traceback (most recent call last)",
      "Cell \u001B[0;32mIn[10], line 1\u001B[0m\n\u001B[0;32m----> 1\u001B[0m df \u001B[38;5;241m=\u001B[39m \u001B[43mpd\u001B[49m\u001B[38;5;241;43m.\u001B[39;49m\u001B[43mread_csv\u001B[49m\u001B[43m(\u001B[49m\u001B[43mos\u001B[49m\u001B[38;5;241;43m.\u001B[39;49m\u001B[43mpath\u001B[49m\u001B[38;5;241;43m.\u001B[39;49m\u001B[43mjoin\u001B[49m\u001B[43m(\u001B[49m\u001B[43mpath\u001B[49m\u001B[38;5;241;43m.\u001B[39;49m\u001B[43mpanv2_processed_path\u001B[49m\u001B[43m,\u001B[49m\u001B[43m \u001B[49m\u001B[38;5;124;43m\"\u001B[39;49m\u001B[38;5;124;43m1_pair_pool_labels.csv\u001B[39;49m\u001B[38;5;124;43m\"\u001B[39;49m\u001B[43m)\u001B[49m\u001B[43m)\u001B[49m\n\u001B[1;32m      2\u001B[0m display(df\u001B[38;5;241m.\u001B[39mhead())\n",
      "File \u001B[0;32m~/anaconda3/envs/SerialScammer/lib/python3.10/site-packages/pandas/io/parsers/readers.py:1026\u001B[0m, in \u001B[0;36mread_csv\u001B[0;34m(filepath_or_buffer, sep, delimiter, header, names, index_col, usecols, dtype, engine, converters, true_values, false_values, skipinitialspace, skiprows, skipfooter, nrows, na_values, keep_default_na, na_filter, verbose, skip_blank_lines, parse_dates, infer_datetime_format, keep_date_col, date_parser, date_format, dayfirst, cache_dates, iterator, chunksize, compression, thousands, decimal, lineterminator, quotechar, quoting, doublequote, escapechar, comment, encoding, encoding_errors, dialect, on_bad_lines, delim_whitespace, low_memory, memory_map, float_precision, storage_options, dtype_backend)\u001B[0m\n\u001B[1;32m   1013\u001B[0m kwds_defaults \u001B[38;5;241m=\u001B[39m _refine_defaults_read(\n\u001B[1;32m   1014\u001B[0m     dialect,\n\u001B[1;32m   1015\u001B[0m     delimiter,\n\u001B[0;32m   (...)\u001B[0m\n\u001B[1;32m   1022\u001B[0m     dtype_backend\u001B[38;5;241m=\u001B[39mdtype_backend,\n\u001B[1;32m   1023\u001B[0m )\n\u001B[1;32m   1024\u001B[0m kwds\u001B[38;5;241m.\u001B[39mupdate(kwds_defaults)\n\u001B[0;32m-> 1026\u001B[0m \u001B[38;5;28;01mreturn\u001B[39;00m \u001B[43m_read\u001B[49m\u001B[43m(\u001B[49m\u001B[43mfilepath_or_buffer\u001B[49m\u001B[43m,\u001B[49m\u001B[43m \u001B[49m\u001B[43mkwds\u001B[49m\u001B[43m)\u001B[49m\n",
      "File \u001B[0;32m~/anaconda3/envs/SerialScammer/lib/python3.10/site-packages/pandas/io/parsers/readers.py:620\u001B[0m, in \u001B[0;36m_read\u001B[0;34m(filepath_or_buffer, kwds)\u001B[0m\n\u001B[1;32m    617\u001B[0m _validate_names(kwds\u001B[38;5;241m.\u001B[39mget(\u001B[38;5;124m\"\u001B[39m\u001B[38;5;124mnames\u001B[39m\u001B[38;5;124m\"\u001B[39m, \u001B[38;5;28;01mNone\u001B[39;00m))\n\u001B[1;32m    619\u001B[0m \u001B[38;5;66;03m# Create the parser.\u001B[39;00m\n\u001B[0;32m--> 620\u001B[0m parser \u001B[38;5;241m=\u001B[39m \u001B[43mTextFileReader\u001B[49m\u001B[43m(\u001B[49m\u001B[43mfilepath_or_buffer\u001B[49m\u001B[43m,\u001B[49m\u001B[43m \u001B[49m\u001B[38;5;241;43m*\u001B[39;49m\u001B[38;5;241;43m*\u001B[39;49m\u001B[43mkwds\u001B[49m\u001B[43m)\u001B[49m\n\u001B[1;32m    622\u001B[0m \u001B[38;5;28;01mif\u001B[39;00m chunksize \u001B[38;5;129;01mor\u001B[39;00m iterator:\n\u001B[1;32m    623\u001B[0m     \u001B[38;5;28;01mreturn\u001B[39;00m parser\n",
      "File \u001B[0;32m~/anaconda3/envs/SerialScammer/lib/python3.10/site-packages/pandas/io/parsers/readers.py:1620\u001B[0m, in \u001B[0;36mTextFileReader.__init__\u001B[0;34m(self, f, engine, **kwds)\u001B[0m\n\u001B[1;32m   1617\u001B[0m     \u001B[38;5;28mself\u001B[39m\u001B[38;5;241m.\u001B[39moptions[\u001B[38;5;124m\"\u001B[39m\u001B[38;5;124mhas_index_names\u001B[39m\u001B[38;5;124m\"\u001B[39m] \u001B[38;5;241m=\u001B[39m kwds[\u001B[38;5;124m\"\u001B[39m\u001B[38;5;124mhas_index_names\u001B[39m\u001B[38;5;124m\"\u001B[39m]\n\u001B[1;32m   1619\u001B[0m \u001B[38;5;28mself\u001B[39m\u001B[38;5;241m.\u001B[39mhandles: IOHandles \u001B[38;5;241m|\u001B[39m \u001B[38;5;28;01mNone\u001B[39;00m \u001B[38;5;241m=\u001B[39m \u001B[38;5;28;01mNone\u001B[39;00m\n\u001B[0;32m-> 1620\u001B[0m \u001B[38;5;28mself\u001B[39m\u001B[38;5;241m.\u001B[39m_engine \u001B[38;5;241m=\u001B[39m \u001B[38;5;28;43mself\u001B[39;49m\u001B[38;5;241;43m.\u001B[39;49m\u001B[43m_make_engine\u001B[49m\u001B[43m(\u001B[49m\u001B[43mf\u001B[49m\u001B[43m,\u001B[49m\u001B[43m \u001B[49m\u001B[38;5;28;43mself\u001B[39;49m\u001B[38;5;241;43m.\u001B[39;49m\u001B[43mengine\u001B[49m\u001B[43m)\u001B[49m\n",
      "File \u001B[0;32m~/anaconda3/envs/SerialScammer/lib/python3.10/site-packages/pandas/io/parsers/readers.py:1880\u001B[0m, in \u001B[0;36mTextFileReader._make_engine\u001B[0;34m(self, f, engine)\u001B[0m\n\u001B[1;32m   1878\u001B[0m     \u001B[38;5;28;01mif\u001B[39;00m \u001B[38;5;124m\"\u001B[39m\u001B[38;5;124mb\u001B[39m\u001B[38;5;124m\"\u001B[39m \u001B[38;5;129;01mnot\u001B[39;00m \u001B[38;5;129;01min\u001B[39;00m mode:\n\u001B[1;32m   1879\u001B[0m         mode \u001B[38;5;241m+\u001B[39m\u001B[38;5;241m=\u001B[39m \u001B[38;5;124m\"\u001B[39m\u001B[38;5;124mb\u001B[39m\u001B[38;5;124m\"\u001B[39m\n\u001B[0;32m-> 1880\u001B[0m \u001B[38;5;28mself\u001B[39m\u001B[38;5;241m.\u001B[39mhandles \u001B[38;5;241m=\u001B[39m \u001B[43mget_handle\u001B[49m\u001B[43m(\u001B[49m\n\u001B[1;32m   1881\u001B[0m \u001B[43m    \u001B[49m\u001B[43mf\u001B[49m\u001B[43m,\u001B[49m\n\u001B[1;32m   1882\u001B[0m \u001B[43m    \u001B[49m\u001B[43mmode\u001B[49m\u001B[43m,\u001B[49m\n\u001B[1;32m   1883\u001B[0m \u001B[43m    \u001B[49m\u001B[43mencoding\u001B[49m\u001B[38;5;241;43m=\u001B[39;49m\u001B[38;5;28;43mself\u001B[39;49m\u001B[38;5;241;43m.\u001B[39;49m\u001B[43moptions\u001B[49m\u001B[38;5;241;43m.\u001B[39;49m\u001B[43mget\u001B[49m\u001B[43m(\u001B[49m\u001B[38;5;124;43m\"\u001B[39;49m\u001B[38;5;124;43mencoding\u001B[39;49m\u001B[38;5;124;43m\"\u001B[39;49m\u001B[43m,\u001B[49m\u001B[43m \u001B[49m\u001B[38;5;28;43;01mNone\u001B[39;49;00m\u001B[43m)\u001B[49m\u001B[43m,\u001B[49m\n\u001B[1;32m   1884\u001B[0m \u001B[43m    \u001B[49m\u001B[43mcompression\u001B[49m\u001B[38;5;241;43m=\u001B[39;49m\u001B[38;5;28;43mself\u001B[39;49m\u001B[38;5;241;43m.\u001B[39;49m\u001B[43moptions\u001B[49m\u001B[38;5;241;43m.\u001B[39;49m\u001B[43mget\u001B[49m\u001B[43m(\u001B[49m\u001B[38;5;124;43m\"\u001B[39;49m\u001B[38;5;124;43mcompression\u001B[39;49m\u001B[38;5;124;43m\"\u001B[39;49m\u001B[43m,\u001B[49m\u001B[43m \u001B[49m\u001B[38;5;28;43;01mNone\u001B[39;49;00m\u001B[43m)\u001B[49m\u001B[43m,\u001B[49m\n\u001B[1;32m   1885\u001B[0m \u001B[43m    \u001B[49m\u001B[43mmemory_map\u001B[49m\u001B[38;5;241;43m=\u001B[39;49m\u001B[38;5;28;43mself\u001B[39;49m\u001B[38;5;241;43m.\u001B[39;49m\u001B[43moptions\u001B[49m\u001B[38;5;241;43m.\u001B[39;49m\u001B[43mget\u001B[49m\u001B[43m(\u001B[49m\u001B[38;5;124;43m\"\u001B[39;49m\u001B[38;5;124;43mmemory_map\u001B[39;49m\u001B[38;5;124;43m\"\u001B[39;49m\u001B[43m,\u001B[49m\u001B[43m \u001B[49m\u001B[38;5;28;43;01mFalse\u001B[39;49;00m\u001B[43m)\u001B[49m\u001B[43m,\u001B[49m\n\u001B[1;32m   1886\u001B[0m \u001B[43m    \u001B[49m\u001B[43mis_text\u001B[49m\u001B[38;5;241;43m=\u001B[39;49m\u001B[43mis_text\u001B[49m\u001B[43m,\u001B[49m\n\u001B[1;32m   1887\u001B[0m \u001B[43m    \u001B[49m\u001B[43merrors\u001B[49m\u001B[38;5;241;43m=\u001B[39;49m\u001B[38;5;28;43mself\u001B[39;49m\u001B[38;5;241;43m.\u001B[39;49m\u001B[43moptions\u001B[49m\u001B[38;5;241;43m.\u001B[39;49m\u001B[43mget\u001B[49m\u001B[43m(\u001B[49m\u001B[38;5;124;43m\"\u001B[39;49m\u001B[38;5;124;43mencoding_errors\u001B[39;49m\u001B[38;5;124;43m\"\u001B[39;49m\u001B[43m,\u001B[49m\u001B[43m \u001B[49m\u001B[38;5;124;43m\"\u001B[39;49m\u001B[38;5;124;43mstrict\u001B[39;49m\u001B[38;5;124;43m\"\u001B[39;49m\u001B[43m)\u001B[49m\u001B[43m,\u001B[49m\n\u001B[1;32m   1888\u001B[0m \u001B[43m    \u001B[49m\u001B[43mstorage_options\u001B[49m\u001B[38;5;241;43m=\u001B[39;49m\u001B[38;5;28;43mself\u001B[39;49m\u001B[38;5;241;43m.\u001B[39;49m\u001B[43moptions\u001B[49m\u001B[38;5;241;43m.\u001B[39;49m\u001B[43mget\u001B[49m\u001B[43m(\u001B[49m\u001B[38;5;124;43m\"\u001B[39;49m\u001B[38;5;124;43mstorage_options\u001B[39;49m\u001B[38;5;124;43m\"\u001B[39;49m\u001B[43m,\u001B[49m\u001B[43m \u001B[49m\u001B[38;5;28;43;01mNone\u001B[39;49;00m\u001B[43m)\u001B[49m\u001B[43m,\u001B[49m\n\u001B[1;32m   1889\u001B[0m \u001B[43m\u001B[49m\u001B[43m)\u001B[49m\n\u001B[1;32m   1890\u001B[0m \u001B[38;5;28;01massert\u001B[39;00m \u001B[38;5;28mself\u001B[39m\u001B[38;5;241m.\u001B[39mhandles \u001B[38;5;129;01mis\u001B[39;00m \u001B[38;5;129;01mnot\u001B[39;00m \u001B[38;5;28;01mNone\u001B[39;00m\n\u001B[1;32m   1891\u001B[0m f \u001B[38;5;241m=\u001B[39m \u001B[38;5;28mself\u001B[39m\u001B[38;5;241m.\u001B[39mhandles\u001B[38;5;241m.\u001B[39mhandle\n",
      "File \u001B[0;32m~/anaconda3/envs/SerialScammer/lib/python3.10/site-packages/pandas/io/common.py:873\u001B[0m, in \u001B[0;36mget_handle\u001B[0;34m(path_or_buf, mode, encoding, compression, memory_map, is_text, errors, storage_options)\u001B[0m\n\u001B[1;32m    868\u001B[0m \u001B[38;5;28;01melif\u001B[39;00m \u001B[38;5;28misinstance\u001B[39m(handle, \u001B[38;5;28mstr\u001B[39m):\n\u001B[1;32m    869\u001B[0m     \u001B[38;5;66;03m# Check whether the filename is to be opened in binary mode.\u001B[39;00m\n\u001B[1;32m    870\u001B[0m     \u001B[38;5;66;03m# Binary mode does not support 'encoding' and 'newline'.\u001B[39;00m\n\u001B[1;32m    871\u001B[0m     \u001B[38;5;28;01mif\u001B[39;00m ioargs\u001B[38;5;241m.\u001B[39mencoding \u001B[38;5;129;01mand\u001B[39;00m \u001B[38;5;124m\"\u001B[39m\u001B[38;5;124mb\u001B[39m\u001B[38;5;124m\"\u001B[39m \u001B[38;5;129;01mnot\u001B[39;00m \u001B[38;5;129;01min\u001B[39;00m ioargs\u001B[38;5;241m.\u001B[39mmode:\n\u001B[1;32m    872\u001B[0m         \u001B[38;5;66;03m# Encoding\u001B[39;00m\n\u001B[0;32m--> 873\u001B[0m         handle \u001B[38;5;241m=\u001B[39m \u001B[38;5;28;43mopen\u001B[39;49m\u001B[43m(\u001B[49m\n\u001B[1;32m    874\u001B[0m \u001B[43m            \u001B[49m\u001B[43mhandle\u001B[49m\u001B[43m,\u001B[49m\n\u001B[1;32m    875\u001B[0m \u001B[43m            \u001B[49m\u001B[43mioargs\u001B[49m\u001B[38;5;241;43m.\u001B[39;49m\u001B[43mmode\u001B[49m\u001B[43m,\u001B[49m\n\u001B[1;32m    876\u001B[0m \u001B[43m            \u001B[49m\u001B[43mencoding\u001B[49m\u001B[38;5;241;43m=\u001B[39;49m\u001B[43mioargs\u001B[49m\u001B[38;5;241;43m.\u001B[39;49m\u001B[43mencoding\u001B[49m\u001B[43m,\u001B[49m\n\u001B[1;32m    877\u001B[0m \u001B[43m            \u001B[49m\u001B[43merrors\u001B[49m\u001B[38;5;241;43m=\u001B[39;49m\u001B[43merrors\u001B[49m\u001B[43m,\u001B[49m\n\u001B[1;32m    878\u001B[0m \u001B[43m            \u001B[49m\u001B[43mnewline\u001B[49m\u001B[38;5;241;43m=\u001B[39;49m\u001B[38;5;124;43m\"\u001B[39;49m\u001B[38;5;124;43m\"\u001B[39;49m\u001B[43m,\u001B[49m\n\u001B[1;32m    879\u001B[0m \u001B[43m        \u001B[49m\u001B[43m)\u001B[49m\n\u001B[1;32m    880\u001B[0m     \u001B[38;5;28;01melse\u001B[39;00m:\n\u001B[1;32m    881\u001B[0m         \u001B[38;5;66;03m# Binary mode\u001B[39;00m\n\u001B[1;32m    882\u001B[0m         handle \u001B[38;5;241m=\u001B[39m \u001B[38;5;28mopen\u001B[39m(handle, ioargs\u001B[38;5;241m.\u001B[39mmode)\n",
      "\u001B[0;31mFileNotFoundError\u001B[0m: [Errno 2] No such file or directory: '/mnt/Storage/Data/Blockchain/DEX/pancakeswap/processed/1_pair_pool_labels.csv'"
     ]
    }
   ],
   "execution_count": 10
  },
  {
   "metadata": {
    "ExecuteTime": {
     "end_time": "2024-10-15T07:12:43.063528396Z",
     "start_time": "2024-10-12T04:26:55.580724Z"
    }
   },
   "cell_type": "code",
   "source": [
    "rp = df[df[\"is_rp\"] == 1]\n",
    "rp"
   ],
   "id": "82731a1ce63bd4a0",
   "outputs": [
    {
     "data": {
      "text/plain": [
       "                                               pool  \\\n",
       "116      0x45c0a88988f33123794DAb66c232c00e7C1DdCd5   \n",
       "119      0xC403605005e2C878914ee9FEAD840490a961782b   \n",
       "143      0xaaBd4586Ed416E14EBe6321523883EC36E387a47   \n",
       "146      0x5Ce7761F16616DC0c6a2D7A8D8B2BCc09Be7d289   \n",
       "168      0x6455c1Fd1Ffd68F2c01738625Cf2Bba7FF94A85E   \n",
       "...                                             ...   \n",
       "1694041  0xC689ca958a7296b8dFA449eE76b4C7aBcb590381   \n",
       "1694046  0x5eFa2A4EBEcA6eC723878CEcD3183e2A2D7d7C69   \n",
       "1694048  0xaDD7571517662fFFB6509E2B4811D235A3951c2f   \n",
       "1694056  0xFce895D67a3953c500e47b4B61899D2D275d0F1b   \n",
       "1694057  0x07D638b82077F9ffDC86083448963c877f44f36c   \n",
       "\n",
       "                                            creator  is_rp  \\\n",
       "116      0xecaace2c92afe113057c1bf66c78ccd08e20d249      1   \n",
       "119      0x7fb0792ad88320711270f219510bc3be928293c2      1   \n",
       "143      0xecaace2c92afe113057c1bf66c78ccd08e20d249      1   \n",
       "146      0x56c6e04c7466969dd5b81afb22cc0fdd14f226eb      1   \n",
       "168      0xa7a3af6dac57e853e64b6eefdef2e714e5bfaed8      1   \n",
       "...                                             ...    ...   \n",
       "1694041  0xd0d9b67048d35119cd8d74873c9e592e9a83c0d3      1   \n",
       "1694046  0x5d2adb678f109559d4ddb6182e101a3e6f3edc27      1   \n",
       "1694048  0x6a93b7c0b53c64199719b9fbfd596bcdcefba03c      1   \n",
       "1694056  0x02d3c20b9530a7248018bd0ddec46c4658e320d6      1   \n",
       "1694057  0xbe415a576bac3c021a1440bff3beafbeb47a4e91      1   \n",
       "\n",
       "                                             token0  \\\n",
       "116      0xbb4cdb9cbd36b01bd1cbaebf2de08d9173bc095c   \n",
       "119      0xbb4cdb9cbd36b01bd1cbaebf2de08d9173bc095c   \n",
       "143      0x3a5a4d66680a165863a9295f620ca17e17e8f0c1   \n",
       "146      0x64b90eef53e4d13e64c65cdd755bbebec75e46bd   \n",
       "168      0xbb4cdb9cbd36b01bd1cbaebf2de08d9173bc095c   \n",
       "...                                             ...   \n",
       "1694041  0x57120a8aec67860739543e170170496b70e49454   \n",
       "1694046  0xb864c68eae780a3f58dd9334e240dde06525128c   \n",
       "1694048  0x0c9eb5306a2318f3c3e7a0170ad478643e1850d7   \n",
       "1694056  0xbb4cdb9cbd36b01bd1cbaebf2de08d9173bc095c   \n",
       "1694057  0x3431ab85b70958c58a505853e749841df4550b01   \n",
       "\n",
       "                                             token1  \\\n",
       "116      0xef54802c87bb66bc61f069e3e9f5953e322cff58   \n",
       "119      0xd1c24bcabab5f01bcba2b44b6097ba506be67d6d   \n",
       "143      0xbb4cdb9cbd36b01bd1cbaebf2de08d9173bc095c   \n",
       "146      0xbb4cdb9cbd36b01bd1cbaebf2de08d9173bc095c   \n",
       "168      0xc435db69d3d59d4259db436448f6da8488e08b0b   \n",
       "...                                             ...   \n",
       "1694041  0xbb4cdb9cbd36b01bd1cbaebf2de08d9173bc095c   \n",
       "1694046  0xbb4cdb9cbd36b01bd1cbaebf2de08d9173bc095c   \n",
       "1694048  0xbb4cdb9cbd36b01bd1cbaebf2de08d9173bc095c   \n",
       "1694056  0xee404f329e9ab68458b63d858ddae03bb65e90e2   \n",
       "1694057  0xbb4cdb9cbd36b01bd1cbaebf2de08d9173bc095c   \n",
       "\n",
       "                                         scam_token  \n",
       "116      0xef54802c87bb66bc61f069e3e9f5953e322cff58  \n",
       "119      0xd1c24bcabab5f01bcba2b44b6097ba506be67d6d  \n",
       "143      0x3a5a4d66680a165863a9295f620ca17e17e8f0c1  \n",
       "146      0x64b90eef53e4d13e64c65cdd755bbebec75e46bd  \n",
       "168      0xc435db69d3d59d4259db436448f6da8488e08b0b  \n",
       "...                                             ...  \n",
       "1694041  0x57120a8aec67860739543e170170496b70e49454  \n",
       "1694046  0xb864c68eae780a3f58dd9334e240dde06525128c  \n",
       "1694048  0x0c9eb5306a2318f3c3e7a0170ad478643e1850d7  \n",
       "1694056  0xee404f329e9ab68458b63d858ddae03bb65e90e2  \n",
       "1694057  0x3431ab85b70958c58a505853e749841df4550b01  \n",
       "\n",
       "[472050 rows x 6 columns]"
      ],
      "text/html": [
       "<div>\n",
       "<style scoped>\n",
       "    .dataframe tbody tr th:only-of-type {\n",
       "        vertical-align: middle;\n",
       "    }\n",
       "\n",
       "    .dataframe tbody tr th {\n",
       "        vertical-align: top;\n",
       "    }\n",
       "\n",
       "    .dataframe thead th {\n",
       "        text-align: right;\n",
       "    }\n",
       "</style>\n",
       "<table border=\"1\" class=\"dataframe\">\n",
       "  <thead>\n",
       "    <tr style=\"text-align: right;\">\n",
       "      <th></th>\n",
       "      <th>pool</th>\n",
       "      <th>creator</th>\n",
       "      <th>is_rp</th>\n",
       "      <th>token0</th>\n",
       "      <th>token1</th>\n",
       "      <th>scam_token</th>\n",
       "    </tr>\n",
       "  </thead>\n",
       "  <tbody>\n",
       "    <tr>\n",
       "      <th>116</th>\n",
       "      <td>0x45c0a88988f33123794DAb66c232c00e7C1DdCd5</td>\n",
       "      <td>0xecaace2c92afe113057c1bf66c78ccd08e20d249</td>\n",
       "      <td>1</td>\n",
       "      <td>0xbb4cdb9cbd36b01bd1cbaebf2de08d9173bc095c</td>\n",
       "      <td>0xef54802c87bb66bc61f069e3e9f5953e322cff58</td>\n",
       "      <td>0xef54802c87bb66bc61f069e3e9f5953e322cff58</td>\n",
       "    </tr>\n",
       "    <tr>\n",
       "      <th>119</th>\n",
       "      <td>0xC403605005e2C878914ee9FEAD840490a961782b</td>\n",
       "      <td>0x7fb0792ad88320711270f219510bc3be928293c2</td>\n",
       "      <td>1</td>\n",
       "      <td>0xbb4cdb9cbd36b01bd1cbaebf2de08d9173bc095c</td>\n",
       "      <td>0xd1c24bcabab5f01bcba2b44b6097ba506be67d6d</td>\n",
       "      <td>0xd1c24bcabab5f01bcba2b44b6097ba506be67d6d</td>\n",
       "    </tr>\n",
       "    <tr>\n",
       "      <th>143</th>\n",
       "      <td>0xaaBd4586Ed416E14EBe6321523883EC36E387a47</td>\n",
       "      <td>0xecaace2c92afe113057c1bf66c78ccd08e20d249</td>\n",
       "      <td>1</td>\n",
       "      <td>0x3a5a4d66680a165863a9295f620ca17e17e8f0c1</td>\n",
       "      <td>0xbb4cdb9cbd36b01bd1cbaebf2de08d9173bc095c</td>\n",
       "      <td>0x3a5a4d66680a165863a9295f620ca17e17e8f0c1</td>\n",
       "    </tr>\n",
       "    <tr>\n",
       "      <th>146</th>\n",
       "      <td>0x5Ce7761F16616DC0c6a2D7A8D8B2BCc09Be7d289</td>\n",
       "      <td>0x56c6e04c7466969dd5b81afb22cc0fdd14f226eb</td>\n",
       "      <td>1</td>\n",
       "      <td>0x64b90eef53e4d13e64c65cdd755bbebec75e46bd</td>\n",
       "      <td>0xbb4cdb9cbd36b01bd1cbaebf2de08d9173bc095c</td>\n",
       "      <td>0x64b90eef53e4d13e64c65cdd755bbebec75e46bd</td>\n",
       "    </tr>\n",
       "    <tr>\n",
       "      <th>168</th>\n",
       "      <td>0x6455c1Fd1Ffd68F2c01738625Cf2Bba7FF94A85E</td>\n",
       "      <td>0xa7a3af6dac57e853e64b6eefdef2e714e5bfaed8</td>\n",
       "      <td>1</td>\n",
       "      <td>0xbb4cdb9cbd36b01bd1cbaebf2de08d9173bc095c</td>\n",
       "      <td>0xc435db69d3d59d4259db436448f6da8488e08b0b</td>\n",
       "      <td>0xc435db69d3d59d4259db436448f6da8488e08b0b</td>\n",
       "    </tr>\n",
       "    <tr>\n",
       "      <th>...</th>\n",
       "      <td>...</td>\n",
       "      <td>...</td>\n",
       "      <td>...</td>\n",
       "      <td>...</td>\n",
       "      <td>...</td>\n",
       "      <td>...</td>\n",
       "    </tr>\n",
       "    <tr>\n",
       "      <th>1694041</th>\n",
       "      <td>0xC689ca958a7296b8dFA449eE76b4C7aBcb590381</td>\n",
       "      <td>0xd0d9b67048d35119cd8d74873c9e592e9a83c0d3</td>\n",
       "      <td>1</td>\n",
       "      <td>0x57120a8aec67860739543e170170496b70e49454</td>\n",
       "      <td>0xbb4cdb9cbd36b01bd1cbaebf2de08d9173bc095c</td>\n",
       "      <td>0x57120a8aec67860739543e170170496b70e49454</td>\n",
       "    </tr>\n",
       "    <tr>\n",
       "      <th>1694046</th>\n",
       "      <td>0x5eFa2A4EBEcA6eC723878CEcD3183e2A2D7d7C69</td>\n",
       "      <td>0x5d2adb678f109559d4ddb6182e101a3e6f3edc27</td>\n",
       "      <td>1</td>\n",
       "      <td>0xb864c68eae780a3f58dd9334e240dde06525128c</td>\n",
       "      <td>0xbb4cdb9cbd36b01bd1cbaebf2de08d9173bc095c</td>\n",
       "      <td>0xb864c68eae780a3f58dd9334e240dde06525128c</td>\n",
       "    </tr>\n",
       "    <tr>\n",
       "      <th>1694048</th>\n",
       "      <td>0xaDD7571517662fFFB6509E2B4811D235A3951c2f</td>\n",
       "      <td>0x6a93b7c0b53c64199719b9fbfd596bcdcefba03c</td>\n",
       "      <td>1</td>\n",
       "      <td>0x0c9eb5306a2318f3c3e7a0170ad478643e1850d7</td>\n",
       "      <td>0xbb4cdb9cbd36b01bd1cbaebf2de08d9173bc095c</td>\n",
       "      <td>0x0c9eb5306a2318f3c3e7a0170ad478643e1850d7</td>\n",
       "    </tr>\n",
       "    <tr>\n",
       "      <th>1694056</th>\n",
       "      <td>0xFce895D67a3953c500e47b4B61899D2D275d0F1b</td>\n",
       "      <td>0x02d3c20b9530a7248018bd0ddec46c4658e320d6</td>\n",
       "      <td>1</td>\n",
       "      <td>0xbb4cdb9cbd36b01bd1cbaebf2de08d9173bc095c</td>\n",
       "      <td>0xee404f329e9ab68458b63d858ddae03bb65e90e2</td>\n",
       "      <td>0xee404f329e9ab68458b63d858ddae03bb65e90e2</td>\n",
       "    </tr>\n",
       "    <tr>\n",
       "      <th>1694057</th>\n",
       "      <td>0x07D638b82077F9ffDC86083448963c877f44f36c</td>\n",
       "      <td>0xbe415a576bac3c021a1440bff3beafbeb47a4e91</td>\n",
       "      <td>1</td>\n",
       "      <td>0x3431ab85b70958c58a505853e749841df4550b01</td>\n",
       "      <td>0xbb4cdb9cbd36b01bd1cbaebf2de08d9173bc095c</td>\n",
       "      <td>0x3431ab85b70958c58a505853e749841df4550b01</td>\n",
       "    </tr>\n",
       "  </tbody>\n",
       "</table>\n",
       "<p>472050 rows × 6 columns</p>\n",
       "</div>"
      ]
     },
     "execution_count": 4,
     "metadata": {},
     "output_type": "execute_result"
    }
   ],
   "execution_count": 4
  },
  {
   "metadata": {
    "ExecuteTime": {
     "end_time": "2024-10-15T07:12:43.063957816Z",
     "start_time": "2024-10-12T04:27:08.180494Z"
    }
   },
   "cell_type": "code",
   "source": [
    "pcs = pd.read_csv(os.path.join(path.panv2_processed_path, \"1_pair_scammers.csv\"))\n",
    "print(\"Pancake unique scammers\", len(pcs[\"scammer\"].unique()))\n",
    "uns = pd.read_csv(os.path.join(path.univ2_processed_path, \"1_pair_scammers.csv\"))\n",
    "print(\"Uniswap unique scammers\", len(uns[\"scammer\"].unique()))\n",
    "print(\"Total unique scammers\", len(uns[\"scammer\"].unique())+len(uns[\"scammer\"].unique()))"
   ],
   "id": "fd09b8d9cfa361de",
   "outputs": [
    {
     "name": "stdout",
     "output_type": "stream",
     "text": [
      "Pancake unique scammers 255969\n",
      "Uniswap unique scammers 190958\n",
      "Total unique scammers 381916\n"
     ]
    }
   ],
   "execution_count": 5
  },
  {
   "metadata": {
    "ExecuteTime": {
     "end_time": "2024-10-15T07:12:43.064158635Z",
     "start_time": "2024-10-07T12:32:19.173395Z"
    }
   },
   "cell_type": "code",
   "source": [
    "from tqdm import tqdm\n",
    "from data_collection.AccountCollector import TransactionCollector \n",
    "uns = pd.read_csv(os.path.join(path.univ2_processed_path, \"filtered_simple_rp_scammers.csv\"))\n",
    "print(\"Uniswap unique scammers\", len(uns[\"scammer\"].unique()))\n",
    "collector = TransactionCollector()\n",
    "scammers = uns[\"scammer\"].unique()\n",
    "scammer_pools = uns.groupby(\"scammer\")[\"pool\"].apply(list).to_dict()\n",
    "# ntxs = []\n",
    "# for scammer in tqdm(scammers):\n",
    "#     nor_txs, int_txs = collector.get_transactions(scammer)\n",
    "#     pools = scammer_pools[scammer]\n",
    "#     ntxs.append({\"scammer\":scammer, \"num_normal_txs\": len(nor_txs), \"num_pools\": len(pools), \"pools\": \";\".join(pools)})\n",
    "# ntxs_df = pd.DataFrame(ntxs)\n",
    "# ntxs_df.to_csv(\"filtered_simple_scammer_txs_size.csv\", index=False)\n",
    "ntxs_df = pd.read_csv(\"filtered_simple_scammer_txs_size.csv\")\n",
    "display(ntxs_df.head())"
   ],
   "id": "569987a8b8a7bbaf",
   "outputs": [
    {
     "name": "stdout",
     "output_type": "stream",
     "text": [
      "Uniswap unique scammers 176750\n"
     ]
    },
    {
     "name": "stderr",
     "output_type": "stream",
     "text": [
      "  8%|▊         | 13817/176750 [01:09<12:01, 225.77it/s]"
     ]
    },
    {
     "name": "stdout",
     "output_type": "stream",
     "text": [
      "0x863157a21bc7534fb57311b133dd96979a5aa880 No columns to parse from file\n"
     ]
    },
    {
     "name": "stderr",
     "output_type": "stream",
     "text": [
      "100%|██████████| 176750/176750 [13:07<00:00, 224.56it/s]\n"
     ]
    },
    {
     "data": {
      "text/plain": [
       "                                      scammer  num_normal_txs  num_pools  \\\n",
       "0  0xe2772341c3ca68f332ec8d68d13b5ebae3dd26d8             219          1   \n",
       "1  0x6f9ff1f95bde025e3d5e4633304fa8c29ea8acf8              14          1   \n",
       "2  0xc1ff218cb1355e6c7b25e8144252cc5ea3c08d9f              16          1   \n",
       "3  0xae9943ffb0ea5959ddbf7bbe93d246c861d4c939              11          1   \n",
       "4  0xcb114805b901f7a9c38d5675272ef26459a7d805            5114          1   \n",
       "\n",
       "                                        pools  \n",
       "0  0x2F2399AfBcF979cA3D92a3158562C9A397b28D06  \n",
       "1  0x0e2129c1bDbb0AfaA6Be1ed53650B267C0FB5556  \n",
       "2  0x7f6fe5c9FF1F9D46B29B79537D9ce6337127DFE0  \n",
       "3  0x083B344D961D4Ab3823ACceC60253ec6c4bdB511  \n",
       "4  0x441d3A8eA2076ad7326E91f52704CBE00C911F73  "
      ],
      "text/html": [
       "<div>\n",
       "<style scoped>\n",
       "    .dataframe tbody tr th:only-of-type {\n",
       "        vertical-align: middle;\n",
       "    }\n",
       "\n",
       "    .dataframe tbody tr th {\n",
       "        vertical-align: top;\n",
       "    }\n",
       "\n",
       "    .dataframe thead th {\n",
       "        text-align: right;\n",
       "    }\n",
       "</style>\n",
       "<table border=\"1\" class=\"dataframe\">\n",
       "  <thead>\n",
       "    <tr style=\"text-align: right;\">\n",
       "      <th></th>\n",
       "      <th>scammer</th>\n",
       "      <th>num_normal_txs</th>\n",
       "      <th>num_pools</th>\n",
       "      <th>pools</th>\n",
       "    </tr>\n",
       "  </thead>\n",
       "  <tbody>\n",
       "    <tr>\n",
       "      <th>0</th>\n",
       "      <td>0xe2772341c3ca68f332ec8d68d13b5ebae3dd26d8</td>\n",
       "      <td>219</td>\n",
       "      <td>1</td>\n",
       "      <td>0x2F2399AfBcF979cA3D92a3158562C9A397b28D06</td>\n",
       "    </tr>\n",
       "    <tr>\n",
       "      <th>1</th>\n",
       "      <td>0x6f9ff1f95bde025e3d5e4633304fa8c29ea8acf8</td>\n",
       "      <td>14</td>\n",
       "      <td>1</td>\n",
       "      <td>0x0e2129c1bDbb0AfaA6Be1ed53650B267C0FB5556</td>\n",
       "    </tr>\n",
       "    <tr>\n",
       "      <th>2</th>\n",
       "      <td>0xc1ff218cb1355e6c7b25e8144252cc5ea3c08d9f</td>\n",
       "      <td>16</td>\n",
       "      <td>1</td>\n",
       "      <td>0x7f6fe5c9FF1F9D46B29B79537D9ce6337127DFE0</td>\n",
       "    </tr>\n",
       "    <tr>\n",
       "      <th>3</th>\n",
       "      <td>0xae9943ffb0ea5959ddbf7bbe93d246c861d4c939</td>\n",
       "      <td>11</td>\n",
       "      <td>1</td>\n",
       "      <td>0x083B344D961D4Ab3823ACceC60253ec6c4bdB511</td>\n",
       "    </tr>\n",
       "    <tr>\n",
       "      <th>4</th>\n",
       "      <td>0xcb114805b901f7a9c38d5675272ef26459a7d805</td>\n",
       "      <td>5114</td>\n",
       "      <td>1</td>\n",
       "      <td>0x441d3A8eA2076ad7326E91f52704CBE00C911F73</td>\n",
       "    </tr>\n",
       "  </tbody>\n",
       "</table>\n",
       "</div>"
      ]
     },
     "metadata": {},
     "output_type": "display_data"
    }
   ],
   "execution_count": 3
  },
  {
   "metadata": {
    "ExecuteTime": {
     "end_time": "2024-10-15T07:12:43.064518501Z",
     "start_time": "2024-10-07T12:47:30.634220Z"
    }
   },
   "cell_type": "code",
   "source": [
    "zero_txs_scammers = ntxs_df[ntxs_df[\"num_normal_txs\"] == 0]\n",
    "display(zero_txs_scammers)"
   ],
   "id": "b8c027388660931",
   "outputs": [
    {
     "data": {
      "text/plain": [
       "                                           scammer  num_normal_txs  num_pools  \\\n",
       "3119    0x7059010320d07a47d2ad54db88bb89ea644c3e6f               0          2   \n",
       "13778   0x863157a21bc7534fb57311b133dd96979a5aa880               0          1   \n",
       "57615   0x982ef39bffcd16d9192ac064ed8584f4f977fdfc               0          1   \n",
       "65885   0xec6a5154ba367f393c565b3597034540ba00c836               0          2   \n",
       "88224   0xd80a8e64f021275d758ee2f2c35a9a23b1f75df9               0          1   \n",
       "101602  0x5906892a61fb475f6e175c67559c1262d9547599               0          1   \n",
       "147814  0x120649ac3f63b4d85a7329ff0547d30251e07605               0          1   \n",
       "\n",
       "                                                    pools  \n",
       "3119    0x5d5E650f31939741d0B3abC50e773973Bc847Cee;0xE...  \n",
       "13778          0x380ba186Af68899c8D24EF564536293e14139802  \n",
       "57615          0x136052e3f32af40B9c5073B5abd242f48DAb522A  \n",
       "65885   0xd1Be2858A9babebCD4244b3c42Ca173b740474A3;0x8...  \n",
       "88224          0x9B4fc06C5c014fDeA9b1c3a9075350ecD527ab0B  \n",
       "101602         0xeBEd118dBAED2a48B301fA8b40d9C23eC1DB3878  \n",
       "147814         0xD8497c6f7CD3b8451e959136C91bf776b55DA015  "
      ],
      "text/html": [
       "<div>\n",
       "<style scoped>\n",
       "    .dataframe tbody tr th:only-of-type {\n",
       "        vertical-align: middle;\n",
       "    }\n",
       "\n",
       "    .dataframe tbody tr th {\n",
       "        vertical-align: top;\n",
       "    }\n",
       "\n",
       "    .dataframe thead th {\n",
       "        text-align: right;\n",
       "    }\n",
       "</style>\n",
       "<table border=\"1\" class=\"dataframe\">\n",
       "  <thead>\n",
       "    <tr style=\"text-align: right;\">\n",
       "      <th></th>\n",
       "      <th>scammer</th>\n",
       "      <th>num_normal_txs</th>\n",
       "      <th>num_pools</th>\n",
       "      <th>pools</th>\n",
       "    </tr>\n",
       "  </thead>\n",
       "  <tbody>\n",
       "    <tr>\n",
       "      <th>3119</th>\n",
       "      <td>0x7059010320d07a47d2ad54db88bb89ea644c3e6f</td>\n",
       "      <td>0</td>\n",
       "      <td>2</td>\n",
       "      <td>0x5d5E650f31939741d0B3abC50e773973Bc847Cee;0xE...</td>\n",
       "    </tr>\n",
       "    <tr>\n",
       "      <th>13778</th>\n",
       "      <td>0x863157a21bc7534fb57311b133dd96979a5aa880</td>\n",
       "      <td>0</td>\n",
       "      <td>1</td>\n",
       "      <td>0x380ba186Af68899c8D24EF564536293e14139802</td>\n",
       "    </tr>\n",
       "    <tr>\n",
       "      <th>57615</th>\n",
       "      <td>0x982ef39bffcd16d9192ac064ed8584f4f977fdfc</td>\n",
       "      <td>0</td>\n",
       "      <td>1</td>\n",
       "      <td>0x136052e3f32af40B9c5073B5abd242f48DAb522A</td>\n",
       "    </tr>\n",
       "    <tr>\n",
       "      <th>65885</th>\n",
       "      <td>0xec6a5154ba367f393c565b3597034540ba00c836</td>\n",
       "      <td>0</td>\n",
       "      <td>2</td>\n",
       "      <td>0xd1Be2858A9babebCD4244b3c42Ca173b740474A3;0x8...</td>\n",
       "    </tr>\n",
       "    <tr>\n",
       "      <th>88224</th>\n",
       "      <td>0xd80a8e64f021275d758ee2f2c35a9a23b1f75df9</td>\n",
       "      <td>0</td>\n",
       "      <td>1</td>\n",
       "      <td>0x9B4fc06C5c014fDeA9b1c3a9075350ecD527ab0B</td>\n",
       "    </tr>\n",
       "    <tr>\n",
       "      <th>101602</th>\n",
       "      <td>0x5906892a61fb475f6e175c67559c1262d9547599</td>\n",
       "      <td>0</td>\n",
       "      <td>1</td>\n",
       "      <td>0xeBEd118dBAED2a48B301fA8b40d9C23eC1DB3878</td>\n",
       "    </tr>\n",
       "    <tr>\n",
       "      <th>147814</th>\n",
       "      <td>0x120649ac3f63b4d85a7329ff0547d30251e07605</td>\n",
       "      <td>0</td>\n",
       "      <td>1</td>\n",
       "      <td>0xD8497c6f7CD3b8451e959136C91bf776b55DA015</td>\n",
       "    </tr>\n",
       "  </tbody>\n",
       "</table>\n",
       "</div>"
      ]
     },
     "metadata": {},
     "output_type": "display_data"
    }
   ],
   "execution_count": 4
  },
  {
   "metadata": {
    "ExecuteTime": {
     "end_time": "2024-10-15T07:12:43.064765558Z",
     "start_time": "2024-10-07T12:47:42.337942Z"
    }
   },
   "cell_type": "code",
   "source": [
    "over_thoundsandscammers = ntxs_df[ntxs_df[\"num_normal_txs\"] > 1000]\n",
    "over_thoundsandscammers"
   ],
   "id": "e8ca385a11669b28",
   "outputs": [
    {
     "data": {
      "text/plain": [
       "                                           scammer  num_normal_txs  num_pools  \\\n",
       "4       0xcb114805b901f7a9c38d5675272ef26459a7d805            5114          1   \n",
       "8       0x1a87b5ccb1c8257815bd2b0a87c899fac59ca598            5799          1   \n",
       "10      0x21fb8e54a34f462c3642b5dc3e529206fdf7b324            1230          2   \n",
       "13      0x89e2aebc454556f60f2b6facd1746bcb58f0b4f3            2217          1   \n",
       "16      0x5d63095cd6a33b626ba08d121c889bd987dbba1c            1937          4   \n",
       "...                                            ...             ...        ...   \n",
       "172675  0xcc9c0cc7ba8fe212126a96b7bbef8bc62c53a13f            3807          1   \n",
       "173405  0x9f49eb2d0d0c3065357b2deb39c18aca1b4cc2b9            1777          4   \n",
       "174683  0x566842a1eb3dfa231574146f86aa2718850da5e2            2501          1   \n",
       "174848  0x33e6d5c35117e00d66a656fae0be45621a964df9            1557          2   \n",
       "175086  0xeaeec76237f9811f603be422c4fcbe28f43cf64b            1291          1   \n",
       "\n",
       "                                                    pools  \n",
       "4              0x441d3A8eA2076ad7326E91f52704CBE00C911F73  \n",
       "8              0xd5662ABf455beB1d81Ba46d62a82cb3D03e471fC  \n",
       "10      0x14583f97FD7097fd70Bc57c2a35A77EaC9D1b27c;0xC...  \n",
       "13             0x497f4633dDfAcfc481f8C8cfA39F49bcf45b17F8  \n",
       "16      0x3fF6d7ADD4508d258e192AADC9eD1371869a4aB9;0x9...  \n",
       "...                                                   ...  \n",
       "172675         0xC81950F7555d596913d0aB999681b59B43BABc8b  \n",
       "173405  0xb34CCBa001997C31f2d9f51e7fc408D0bEa779B3;0x2...  \n",
       "174683         0x870352716AfbDec3cE29450D57f06c3060947434  \n",
       "174848  0xa86af204A3892FB71D5f87AD7bE0fe77D8236406;0x4...  \n",
       "175086         0xf972c4E7617579E61DebB26996Fc9E91f2c147A6  \n",
       "\n",
       "[503 rows x 4 columns]"
      ],
      "text/html": [
       "<div>\n",
       "<style scoped>\n",
       "    .dataframe tbody tr th:only-of-type {\n",
       "        vertical-align: middle;\n",
       "    }\n",
       "\n",
       "    .dataframe tbody tr th {\n",
       "        vertical-align: top;\n",
       "    }\n",
       "\n",
       "    .dataframe thead th {\n",
       "        text-align: right;\n",
       "    }\n",
       "</style>\n",
       "<table border=\"1\" class=\"dataframe\">\n",
       "  <thead>\n",
       "    <tr style=\"text-align: right;\">\n",
       "      <th></th>\n",
       "      <th>scammer</th>\n",
       "      <th>num_normal_txs</th>\n",
       "      <th>num_pools</th>\n",
       "      <th>pools</th>\n",
       "    </tr>\n",
       "  </thead>\n",
       "  <tbody>\n",
       "    <tr>\n",
       "      <th>4</th>\n",
       "      <td>0xcb114805b901f7a9c38d5675272ef26459a7d805</td>\n",
       "      <td>5114</td>\n",
       "      <td>1</td>\n",
       "      <td>0x441d3A8eA2076ad7326E91f52704CBE00C911F73</td>\n",
       "    </tr>\n",
       "    <tr>\n",
       "      <th>8</th>\n",
       "      <td>0x1a87b5ccb1c8257815bd2b0a87c899fac59ca598</td>\n",
       "      <td>5799</td>\n",
       "      <td>1</td>\n",
       "      <td>0xd5662ABf455beB1d81Ba46d62a82cb3D03e471fC</td>\n",
       "    </tr>\n",
       "    <tr>\n",
       "      <th>10</th>\n",
       "      <td>0x21fb8e54a34f462c3642b5dc3e529206fdf7b324</td>\n",
       "      <td>1230</td>\n",
       "      <td>2</td>\n",
       "      <td>0x14583f97FD7097fd70Bc57c2a35A77EaC9D1b27c;0xC...</td>\n",
       "    </tr>\n",
       "    <tr>\n",
       "      <th>13</th>\n",
       "      <td>0x89e2aebc454556f60f2b6facd1746bcb58f0b4f3</td>\n",
       "      <td>2217</td>\n",
       "      <td>1</td>\n",
       "      <td>0x497f4633dDfAcfc481f8C8cfA39F49bcf45b17F8</td>\n",
       "    </tr>\n",
       "    <tr>\n",
       "      <th>16</th>\n",
       "      <td>0x5d63095cd6a33b626ba08d121c889bd987dbba1c</td>\n",
       "      <td>1937</td>\n",
       "      <td>4</td>\n",
       "      <td>0x3fF6d7ADD4508d258e192AADC9eD1371869a4aB9;0x9...</td>\n",
       "    </tr>\n",
       "    <tr>\n",
       "      <th>...</th>\n",
       "      <td>...</td>\n",
       "      <td>...</td>\n",
       "      <td>...</td>\n",
       "      <td>...</td>\n",
       "    </tr>\n",
       "    <tr>\n",
       "      <th>172675</th>\n",
       "      <td>0xcc9c0cc7ba8fe212126a96b7bbef8bc62c53a13f</td>\n",
       "      <td>3807</td>\n",
       "      <td>1</td>\n",
       "      <td>0xC81950F7555d596913d0aB999681b59B43BABc8b</td>\n",
       "    </tr>\n",
       "    <tr>\n",
       "      <th>173405</th>\n",
       "      <td>0x9f49eb2d0d0c3065357b2deb39c18aca1b4cc2b9</td>\n",
       "      <td>1777</td>\n",
       "      <td>4</td>\n",
       "      <td>0xb34CCBa001997C31f2d9f51e7fc408D0bEa779B3;0x2...</td>\n",
       "    </tr>\n",
       "    <tr>\n",
       "      <th>174683</th>\n",
       "      <td>0x566842a1eb3dfa231574146f86aa2718850da5e2</td>\n",
       "      <td>2501</td>\n",
       "      <td>1</td>\n",
       "      <td>0x870352716AfbDec3cE29450D57f06c3060947434</td>\n",
       "    </tr>\n",
       "    <tr>\n",
       "      <th>174848</th>\n",
       "      <td>0x33e6d5c35117e00d66a656fae0be45621a964df9</td>\n",
       "      <td>1557</td>\n",
       "      <td>2</td>\n",
       "      <td>0xa86af204A3892FB71D5f87AD7bE0fe77D8236406;0x4...</td>\n",
       "    </tr>\n",
       "    <tr>\n",
       "      <th>175086</th>\n",
       "      <td>0xeaeec76237f9811f603be422c4fcbe28f43cf64b</td>\n",
       "      <td>1291</td>\n",
       "      <td>1</td>\n",
       "      <td>0xf972c4E7617579E61DebB26996Fc9E91f2c147A6</td>\n",
       "    </tr>\n",
       "  </tbody>\n",
       "</table>\n",
       "<p>503 rows × 4 columns</p>\n",
       "</div>"
      ]
     },
     "execution_count": 5,
     "metadata": {},
     "output_type": "execute_result"
    }
   ],
   "execution_count": 5
  },
  {
   "metadata": {
    "ExecuteTime": {
     "end_time": "2024-10-15T07:12:43.064994128Z",
     "start_time": "2024-10-07T12:48:24.301790Z"
    }
   },
   "cell_type": "code",
   "source": "uns.groupby(\"pool\")[\"scammer\"].count()",
   "id": "6b0d0c08519584a",
   "outputs": [
    {
     "data": {
      "text/plain": [
       "pool\n",
       "0x0000871C95bb027c90089f4926fD1BA82Cdd9a8B    1\n",
       "0x0000B693708A0967A3014365A51282c4d189CD24    1\n",
       "0x0002Bc7e2DB8Df0F26b6DB17E1F5e661Cb07ebcb    1\n",
       "0x0002bC7093AeFD17032B5F9E9C2237E83DdBa267    1\n",
       "0x00031554Ee74E4a6d497677e5152d94c3dBE5f46    1\n",
       "                                             ..\n",
       "0xffe4f11b0ed815c1a157D239224555086D2Df450    1\n",
       "0xffe51f3256C3800Bc11f64839a795f22A75A6DF3    1\n",
       "0xfff0E1744d45Ad8AFE810Dc0166B64fc7407718E    1\n",
       "0xfff2BCbE560457041E32D75A7d274F9E56f0ab14    1\n",
       "0xfff7782aDd71B4fd181e455AC9bd26b5145f439f    1\n",
       "Name: scammer, Length: 193104, dtype: int64"
      ]
     },
     "execution_count": 6,
     "metadata": {},
     "output_type": "execute_result"
    }
   ],
   "execution_count": 6
  }
 ],
 "metadata": {
  "kernelspec": {
   "display_name": "Python 3",
   "language": "python",
   "name": "python3"
  },
  "language_info": {
   "codemirror_mode": {
    "name": "ipython",
    "version": 2
   },
   "file_extension": ".py",
   "mimetype": "text/x-python",
   "name": "python",
   "nbconvert_exporter": "python",
   "pygments_lexer": "ipython2",
   "version": "2.7.6"
  }
 },
 "nbformat": 4,
 "nbformat_minor": 5
}
