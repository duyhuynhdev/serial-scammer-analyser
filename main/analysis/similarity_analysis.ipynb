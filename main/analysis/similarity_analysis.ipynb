{
 "cells": [
  {
   "metadata": {
    "ExecuteTime": {
     "end_time": "2024-10-08T08:08:27.974661Z",
     "start_time": "2024-10-08T08:08:26.413864Z"
    }
   },
   "cell_type": "code",
   "source": [
    "import pandas as pd\n",
    "import ChartDrawer"
   ],
   "id": "33420a679b95bc36",
   "outputs": [],
   "execution_count": 2
  },
  {
   "metadata": {},
   "cell_type": "markdown",
   "source": "# Infra-similarity analysis",
   "id": "f7ce3152a14097c9"
  },
  {
   "metadata": {
    "ExecuteTime": {
     "end_time": "2024-10-08T08:13:39.559645Z",
     "start_time": "2024-10-08T08:13:39.191198Z"
    }
   },
   "cell_type": "code",
   "source": [
    "intra_similarities = pd.read_csv(\"data/intra_similarities.csv\")\n",
    "one_scammer_intra_similarities = pd.read_csv(\"data/one_scammer_group_intra_similarities.csv\")\n",
    "x = list(intra_similarities.intra_similarity.values)\n",
    "x.extend(one_scammer_intra_similarities.intra_similarity.values)\n",
    "ChartDrawer.hist(x, 20, \"Infra-similarity\", \"Number of groups\")\n",
    "\n"
   ],
   "id": "bbf3058476de9c00",
   "outputs": [
    {
     "data": {
      "text/plain": [
       "<Figure size 640x480 with 1 Axes>"
      ],
      "image/png": "[encoded data removed]"
     },
     "metadata": {},
     "output_type": "display_data"
    }
   ],
   "execution_count": 6
  },
  {
   "metadata": {
    "ExecuteTime": {
     "end_time": "2024-10-08T08:08:28.627709Z",
     "start_time": "2024-10-08T08:08:28.591935Z"
    }
   },
   "cell_type": "code",
   "source": "",
   "id": "2a35ce35e8e78d3",
   "outputs": [
    {
     "data": {
      "text/plain": [
       "    intra_similarity  count\n",
       "0               1.00   1411\n",
       "1               0.83    307\n",
       "2               0.80    164\n",
       "3               0.85    120\n",
       "4               0.82    117\n",
       "..               ...    ...\n",
       "92              0.17      9\n",
       "93              0.11      9\n",
       "94              0.05      4\n",
       "95              0.06      2\n",
       "96              0.00      1\n",
       "\n",
       "[97 rows x 2 columns]"
      ],
      "text/html": [
       "<div>\n",
       "<style scoped>\n",
       "    .dataframe tbody tr th:only-of-type {\n",
       "        vertical-align: middle;\n",
       "    }\n",
       "\n",
       "    .dataframe tbody tr th {\n",
       "        vertical-align: top;\n",
       "    }\n",
       "\n",
       "    .dataframe thead th {\n",
       "        text-align: right;\n",
       "    }\n",
       "</style>\n",
       "<table border=\"1\" class=\"dataframe\">\n",
       "  <thead>\n",
       "    <tr style=\"text-align: right;\">\n",
       "      <th></th>\n",
       "      <th>intra_similarity</th>\n",
       "      <th>count</th>\n",
       "    </tr>\n",
       "  </thead>\n",
       "  <tbody>\n",
       "    <tr>\n",
       "      <th>0</th>\n",
       "      <td>1.00</td>\n",
       "      <td>1411</td>\n",
       "    </tr>\n",
       "    <tr>\n",
       "      <th>1</th>\n",
       "      <td>0.83</td>\n",
       "      <td>307</td>\n",
       "    </tr>\n",
       "    <tr>\n",
       "      <th>2</th>\n",
       "      <td>0.80</td>\n",
       "      <td>164</td>\n",
       "    </tr>\n",
       "    <tr>\n",
       "      <th>3</th>\n",
       "      <td>0.85</td>\n",
       "      <td>120</td>\n",
       "    </tr>\n",
       "    <tr>\n",
       "      <th>4</th>\n",
       "      <td>0.82</td>\n",
       "      <td>117</td>\n",
       "    </tr>\n",
       "    <tr>\n",
       "      <th>...</th>\n",
       "      <td>...</td>\n",
       "      <td>...</td>\n",
       "    </tr>\n",
       "    <tr>\n",
       "      <th>92</th>\n",
       "      <td>0.17</td>\n",
       "      <td>9</td>\n",
       "    </tr>\n",
       "    <tr>\n",
       "      <th>93</th>\n",
       "      <td>0.11</td>\n",
       "      <td>9</td>\n",
       "    </tr>\n",
       "    <tr>\n",
       "      <th>94</th>\n",
       "      <td>0.05</td>\n",
       "      <td>4</td>\n",
       "    </tr>\n",
       "    <tr>\n",
       "      <th>95</th>\n",
       "      <td>0.06</td>\n",
       "      <td>2</td>\n",
       "    </tr>\n",
       "    <tr>\n",
       "      <th>96</th>\n",
       "      <td>0.00</td>\n",
       "      <td>1</td>\n",
       "    </tr>\n",
       "  </tbody>\n",
       "</table>\n",
       "<p>97 rows × 2 columns</p>\n",
       "</div>"
      ]
     },
     "execution_count": 4,
     "metadata": {},
     "output_type": "execute_result"
    }
   ],
   "execution_count": 4
  },
  {
   "metadata": {
    "ExecuteTime": {
     "end_time": "2024-10-08T08:32:58.002725Z",
     "start_time": "2024-10-08T08:32:57.964160Z"
    }
   },
   "cell_type": "code",
   "source": "intra_similarities.intra_similarity.describe()",
   "id": "dbf528b3e26a3ab7",
   "outputs": [
    {
     "data": {
      "text/plain": [
       "count    5594.000000\n",
       "mean        0.731548\n",
       "std         0.255735\n",
       "min         0.000000\n",
       "25%         0.548242\n",
       "50%         0.802707\n",
       "75%         1.000000\n",
       "max         1.000000\n",
       "Name: intra_similarity, dtype: float64"
      ]
     },
     "execution_count": 7,
     "metadata": {},
     "output_type": "execute_result"
    }
   ],
   "execution_count": 7
  },
  {
   "metadata": {
    "ExecuteTime": {
     "end_time": "2024-10-08T08:33:12.388128Z",
     "start_time": "2024-10-08T08:33:12.363644Z"
    }
   },
   "cell_type": "code",
   "source": "one_scammer_intra_similarities.intra_similarity.describe()",
   "id": "1d5e08b76eead986",
   "outputs": [
    {
     "data": {
      "text/plain": [
       "count    1666.000000\n",
       "mean        0.785062\n",
       "std         0.271370\n",
       "min         0.037037\n",
       "25%         0.691346\n",
       "50%         0.882353\n",
       "75%         1.000000\n",
       "max         1.000000\n",
       "Name: intra_similarity, dtype: float64"
      ]
     },
     "execution_count": 8,
     "metadata": {},
     "output_type": "execute_result"
    }
   ],
   "execution_count": 8
  }
 ],
 "metadata": {
  "kernelspec": {
   "display_name": "Python 3",
   "language": "python",
   "name": "python3"
  },
  "language_info": {
   "codemirror_mode": {
    "name": "ipython",
    "version": 2
   },
   "file_extension": ".py",
   "mimetype": "text/x-python",
   "name": "python",
   "nbconvert_exporter": "python",
   "pygments_lexer": "ipython2",
   "version": "2.7.6"
  }
 },
 "nbformat": 4,
 "nbformat_minor": 5
}
