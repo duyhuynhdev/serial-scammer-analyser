{
 "cells": [
  {
   "cell_type": "code",
   "id": "initial_id",
   "metadata": {
    "collapsed": true,
    "ExecuteTime": {
     "end_time": "2024-10-15T07:12:11.006896Z",
     "start_time": "2024-10-15T07:12:09.184408Z"
    }
   },
   "source": [
    "import utils.Utils as ut\n",
    "import os\n",
    "import pandas as pd\n",
    "\n",
    "from entity.blockchain.Address import Address\n",
    "from utils.DataLoader import DataLoader\n",
    "from utils.Settings import Setting\n",
    "from utils.ProjectPath import ProjectPath\n",
    "from collections import Counter\n",
    "from utils import ChartDrawer as cd\n",
    "\n",
    "path = ProjectPath()\n",
    "setting = Setting()\n",
    "\n",
    "uniswap_tokens = pd.read_csv(os.path.join(path.panv2_processed_path, \"token_info.csv\"))\n",
    "uniswap_pools = pd.read_csv(os.path.join(path.panv2_processed_path, \"pool_info.csv\"))\n",
    "display(uniswap_tokens.head())\n",
    "display(uniswap_pools.head())"
   ],
   "outputs": [
    {
     "name": "stdout",
     "output_type": "stream",
     "text": [
      "ENVIRONMENT VARIABLES\n",
      "DATA PATH: /mnt/Storage/Data/Blockchain/DEX\n"
     ]
    },
    {
     "data": {
      "text/plain": [
       "                                        token                 name symbol  \\\n",
       "0  0x0E09FaBB73Bd3Ade0a17ECC321fD13a19e81cE82    PancakeSwap Token   Cake   \n",
       "1  0xe9e7CEA3DedcA5984780Bafc599bD69ADd087D56           BUSD Token   BUSD   \n",
       "2  0xbb4CdB9CBd36B01bD1cBaEBF2De08d9173bc095c          Wrapped BNB   WBNB   \n",
       "3  0x3EE2200Efb3400fAbB9AacF31297cBdD1d435D47        Cardano Token    ADA   \n",
       "4  0xAD6cAEb32CD2c308980a548bD0Bc5AA4306c6c18  Band Protocol Token   BAND   \n",
       "\n",
       "   decimals                   totalSupply  \n",
       "0        18  1808213379751051201610995531  \n",
       "1        18   365596245875689184460959985  \n",
       "2        18     1356006817363359720577984  \n",
       "3        18   451907177779999999990000000  \n",
       "4        18     2300000000000000000000000  "
      ],
      "text/html": [
       "<div>\n",
       "<style scoped>\n",
       "    .dataframe tbody tr th:only-of-type {\n",
       "        vertical-align: middle;\n",
       "    }\n",
       "\n",
       "    .dataframe tbody tr th {\n",
       "        vertical-align: top;\n",
       "    }\n",
       "\n",
       "    .dataframe thead th {\n",
       "        text-align: right;\n",
       "    }\n",
       "</style>\n",
       "<table border=\"1\" class=\"dataframe\">\n",
       "  <thead>\n",
       "    <tr style=\"text-align: right;\">\n",
       "      <th></th>\n",
       "      <th>token</th>\n",
       "      <th>name</th>\n",
       "      <th>symbol</th>\n",
       "      <th>decimals</th>\n",
       "      <th>totalSupply</th>\n",
       "    </tr>\n",
       "  </thead>\n",
       "  <tbody>\n",
       "    <tr>\n",
       "      <th>0</th>\n",
       "      <td>0x0E09FaBB73Bd3Ade0a17ECC321fD13a19e81cE82</td>\n",
       "      <td>PancakeSwap Token</td>\n",
       "      <td>Cake</td>\n",
       "      <td>18</td>\n",
       "      <td>1808213379751051201610995531</td>\n",
       "    </tr>\n",
       "    <tr>\n",
       "      <th>1</th>\n",
       "      <td>0xe9e7CEA3DedcA5984780Bafc599bD69ADd087D56</td>\n",
       "      <td>BUSD Token</td>\n",
       "      <td>BUSD</td>\n",
       "      <td>18</td>\n",
       "      <td>365596245875689184460959985</td>\n",
       "    </tr>\n",
       "    <tr>\n",
       "      <th>2</th>\n",
       "      <td>0xbb4CdB9CBd36B01bD1cBaEBF2De08d9173bc095c</td>\n",
       "      <td>Wrapped BNB</td>\n",
       "      <td>WBNB</td>\n",
       "      <td>18</td>\n",
       "      <td>1356006817363359720577984</td>\n",
       "    </tr>\n",
       "    <tr>\n",
       "      <th>3</th>\n",
       "      <td>0x3EE2200Efb3400fAbB9AacF31297cBdD1d435D47</td>\n",
       "      <td>Cardano Token</td>\n",
       "      <td>ADA</td>\n",
       "      <td>18</td>\n",
       "      <td>451907177779999999990000000</td>\n",
       "    </tr>\n",
       "    <tr>\n",
       "      <th>4</th>\n",
       "      <td>0xAD6cAEb32CD2c308980a548bD0Bc5AA4306c6c18</td>\n",
       "      <td>Band Protocol Token</td>\n",
       "      <td>BAND</td>\n",
       "      <td>18</td>\n",
       "      <td>2300000000000000000000000</td>\n",
       "    </tr>\n",
       "  </tbody>\n",
       "</table>\n",
       "</div>"
      ]
     },
     "metadata": {},
     "output_type": "display_data"
    },
    {
     "data": {
      "text/plain": [
       "                                         pool  \\\n",
       "0  0x804678fa97d91B974ec2af3c843270886528a9E6   \n",
       "1  0x0eD7e52944161450477ee417DE9Cd3a859b14fD0   \n",
       "2  0x58F876857a02D6762E0101bb5C46A8c1ED44Dc16   \n",
       "3  0x28415ff2C35b65B9E5c7de82126b4015ab9d031F   \n",
       "4  0x168B273278F3A8d302De5E879aA30690B7E6c28f   \n",
       "\n",
       "                                       token0  \\\n",
       "0  0x0E09FaBB73Bd3Ade0a17ECC321fD13a19e81cE82   \n",
       "1  0x0E09FaBB73Bd3Ade0a17ECC321fD13a19e81cE82   \n",
       "2  0xbb4CdB9CBd36B01bD1cBaEBF2De08d9173bc095c   \n",
       "3  0x3EE2200Efb3400fAbB9AacF31297cBdD1d435D47   \n",
       "4  0xAD6cAEb32CD2c308980a548bD0Bc5AA4306c6c18   \n",
       "\n",
       "                                       token1  \n",
       "0  0xe9e7CEA3DedcA5984780Bafc599bD69ADd087D56  \n",
       "1  0xbb4CdB9CBd36B01bD1cBaEBF2De08d9173bc095c  \n",
       "2  0xe9e7CEA3DedcA5984780Bafc599bD69ADd087D56  \n",
       "3  0xbb4CdB9CBd36B01bD1cBaEBF2De08d9173bc095c  \n",
       "4  0xbb4CdB9CBd36B01bD1cBaEBF2De08d9173bc095c  "
      ],
      "text/html": [
       "<div>\n",
       "<style scoped>\n",
       "    .dataframe tbody tr th:only-of-type {\n",
       "        vertical-align: middle;\n",
       "    }\n",
       "\n",
       "    .dataframe tbody tr th {\n",
       "        vertical-align: top;\n",
       "    }\n",
       "\n",
       "    .dataframe thead th {\n",
       "        text-align: right;\n",
       "    }\n",
       "</style>\n",
       "<table border=\"1\" class=\"dataframe\">\n",
       "  <thead>\n",
       "    <tr style=\"text-align: right;\">\n",
       "      <th></th>\n",
       "      <th>pool</th>\n",
       "      <th>token0</th>\n",
       "      <th>token1</th>\n",
       "    </tr>\n",
       "  </thead>\n",
       "  <tbody>\n",
       "    <tr>\n",
       "      <th>0</th>\n",
       "      <td>0x804678fa97d91B974ec2af3c843270886528a9E6</td>\n",
       "      <td>0x0E09FaBB73Bd3Ade0a17ECC321fD13a19e81cE82</td>\n",
       "      <td>0xe9e7CEA3DedcA5984780Bafc599bD69ADd087D56</td>\n",
       "    </tr>\n",
       "    <tr>\n",
       "      <th>1</th>\n",
       "      <td>0x0eD7e52944161450477ee417DE9Cd3a859b14fD0</td>\n",
       "      <td>0x0E09FaBB73Bd3Ade0a17ECC321fD13a19e81cE82</td>\n",
       "      <td>0xbb4CdB9CBd36B01bD1cBaEBF2De08d9173bc095c</td>\n",
       "    </tr>\n",
       "    <tr>\n",
       "      <th>2</th>\n",
       "      <td>0x58F876857a02D6762E0101bb5C46A8c1ED44Dc16</td>\n",
       "      <td>0xbb4CdB9CBd36B01bD1cBaEBF2De08d9173bc095c</td>\n",
       "      <td>0xe9e7CEA3DedcA5984780Bafc599bD69ADd087D56</td>\n",
       "    </tr>\n",
       "    <tr>\n",
       "      <th>3</th>\n",
       "      <td>0x28415ff2C35b65B9E5c7de82126b4015ab9d031F</td>\n",
       "      <td>0x3EE2200Efb3400fAbB9AacF31297cBdD1d435D47</td>\n",
       "      <td>0xbb4CdB9CBd36B01bD1cBaEBF2De08d9173bc095c</td>\n",
       "    </tr>\n",
       "    <tr>\n",
       "      <th>4</th>\n",
       "      <td>0x168B273278F3A8d302De5E879aA30690B7E6c28f</td>\n",
       "      <td>0xAD6cAEb32CD2c308980a548bD0Bc5AA4306c6c18</td>\n",
       "      <td>0xbb4CdB9CBd36B01bD1cBaEBF2De08d9173bc095c</td>\n",
       "    </tr>\n",
       "  </tbody>\n",
       "</table>\n",
       "</div>"
      ]
     },
     "metadata": {},
     "output_type": "display_data"
    }
   ],
   "execution_count": 32
  },
  {
   "metadata": {
    "ExecuteTime": {
     "end_time": "2024-10-15T07:12:12.501032Z",
     "start_time": "2024-10-15T07:12:11.028413Z"
    }
   },
   "cell_type": "code",
   "source": [
    "tokens_appearances = uniswap_pools[\"token0\"].to_list()\n",
    "tokens_appearances.extend(uniswap_pools[\"token1\"].to_list())\n",
    "count = pd.Series(tokens_appearances).value_counts()\n",
    "print(\"Total token\",count)\n",
    "print(\"Total Pair\", len(uniswap_pools))\n",
    "# print(count)\n",
    "top5 =  count[:5]\n",
    "# cd.pie(top5[\"symbol\"].values, top5[\"count\"].values, \"\", \"\", True)\n",
    "print(top5/len(uniswap_pools) *100)\n",
    "print(sum(count[5:]))\n",
    "print(uniswap_tokens[uniswap_tokens[\"token\"].isin(top5.index)])"
   ],
   "id": "4099ab32a368d72b",
   "outputs": [
    {
     "name": "stdout",
     "output_type": "stream",
     "text": [
      "Total token 0xbb4CdB9CBd36B01bD1cBaEBF2De08d9173bc095c    1510774\n",
      "0x55d398326f99059fF775485246999027B3197955     100482\n",
      "0xe9e7CEA3DedcA5984780Bafc599bD69ADd087D56      40626\n",
      "0x0E09FaBB73Bd3Ade0a17ECC321fD13a19e81cE82       4572\n",
      "0x2170Ed0880ac9A755fd29B2688956BD959F933F8       2132\n",
      "                                               ...   \n",
      "0x912967BaFb542392D550Be897022ce4306Ca3B9F          1\n",
      "0xB49E10f9ff1d525c361C8d48830d3408a52Fa312          1\n",
      "0x019668c08B6ec05d950a5ffAa861842F0635b336          1\n",
      "0x3d1C63a4d4ef32E0c8E9aAdf98bFa3a558F62319          1\n",
      "0x7c10527aFa530d01872ea77f1eaCfB85F3cF48F1          1\n",
      "Name: count, Length: 1615131, dtype: int64\n",
      "Total Pair 1699099\n",
      "0xbb4CdB9CBd36B01bD1cBaEBF2De08d9173bc095c    88.916184\n",
      "0x55d398326f99059fF775485246999027B3197955     5.913840\n",
      "0xe9e7CEA3DedcA5984780Bafc599bD69ADd087D56     2.391032\n",
      "0x0E09FaBB73Bd3Ade0a17ECC321fD13a19e81cE82     0.269084\n",
      "0x2170Ed0880ac9A755fd29B2688956BD959F933F8     0.125478\n",
      "Name: count, dtype: float64\n",
      "1739612\n",
      "                                         token               name symbol  \\\n",
      "0   0x0E09FaBB73Bd3Ade0a17ECC321fD13a19e81cE82  PancakeSwap Token   Cake   \n",
      "1   0xe9e7CEA3DedcA5984780Bafc599bD69ADd087D56         BUSD Token   BUSD   \n",
      "2   0xbb4CdB9CBd36B01bD1cBaEBF2De08d9173bc095c        Wrapped BNB   WBNB   \n",
      "8   0x55d398326f99059fF775485246999027B3197955         Tether USD   USDT   \n",
      "11  0x2170Ed0880ac9A755fd29B2688956BD959F933F8     Ethereum Token    ETH   \n",
      "\n",
      "    decimals                   totalSupply  \n",
      "0         18  1808213379751051201610995531  \n",
      "1         18   365596245875689184460959985  \n",
      "2         18     1356006817363359720577984  \n",
      "8         18  3984996427746565019730275862  \n",
      "11        18      604999999959841101714212  \n"
     ]
    }
   ],
   "execution_count": 33
  },
  {
   "metadata": {},
   "cell_type": "markdown",
   "source": "# Cluster analysis",
   "id": "e960680093edc6a7"
  },
  {
   "metadata": {
    "ExecuteTime": {
     "end_time": "2024-10-15T07:12:12.621658Z",
     "start_time": "2024-10-15T07:12:12.519851Z"
    }
   },
   "cell_type": "code",
   "source": [
    "uni_file_path = os.path.join(path.univ2_processed_path, \"non_swap_simple_rp_scammer_group.csv\")\n",
    "uni_groups = pd.read_csv(uni_file_path)\n",
    "print(\"Unique scammers:\", len(uni_groups[\"scammer\"].unique()))\n",
    "# print(\"Unique Pools:\", len(uni_groups[\"pool\"].unique()))\n",
    "uni_groups = uni_groups.groupby('group_id')[\"scammer\"].count().reset_index(name='num_scammer').sort_values(['num_scammer'], ascending=False)\n",
    "print(uni_groups.head())\n",
    "print(uni_groups.describe())\n",
    "uoc = uni_groups[uni_groups.num_scammer == 1]\n",
    "u_one_scammer_group_rate = len(uoc) / len(uni_groups)\n",
    "print(\"one_scammer_group_rate\", u_one_scammer_group_rate)"
   ],
   "id": "dbb04494c550b16d",
   "outputs": [
    {
     "name": "stdout",
     "output_type": "stream",
     "text": [
      "Unique scammers: 145654\n",
      "     group_id  num_scammer\n",
      "8           9         4155\n",
      "104       105          646\n",
      "585       586          538\n",
      "737       738          432\n",
      "195       196          395\n",
      "            group_id    num_scammer\n",
      "count  109471.000000  109471.000000\n",
      "mean    54736.000000       1.330526\n",
      "std     31601.699996      13.305829\n",
      "min         1.000000       1.000000\n",
      "25%     27368.500000       1.000000\n",
      "50%     54736.000000       1.000000\n",
      "75%     82103.500000       1.000000\n",
      "max    109471.000000    4155.000000\n",
      "one_scammer_group_rate 0.9226553151062838\n"
     ]
    }
   ],
   "execution_count": 34
  },
  {
   "metadata": {
    "ExecuteTime": {
     "end_time": "2024-10-15T07:15:43.585644Z",
     "start_time": "2024-10-15T07:15:43.580427Z"
    }
   },
   "cell_type": "code",
   "source": "uni_groups",
   "id": "71e99170e54cc502",
   "outputs": [
    {
     "data": {
      "text/plain": [
       "        group_id  num_scammer\n",
       "8              9         4155\n",
       "104          105          646\n",
       "585          586          538\n",
       "737          738          432\n",
       "195          196          395\n",
       "...          ...          ...\n",
       "39707      39708            1\n",
       "39705      39706            1\n",
       "39703      39704            1\n",
       "39702      39703            1\n",
       "109470    109471            1\n",
       "\n",
       "[109471 rows x 2 columns]"
      ],
      "text/html": [
       "<div>\n",
       "<style scoped>\n",
       "    .dataframe tbody tr th:only-of-type {\n",
       "        vertical-align: middle;\n",
       "    }\n",
       "\n",
       "    .dataframe tbody tr th {\n",
       "        vertical-align: top;\n",
       "    }\n",
       "\n",
       "    .dataframe thead th {\n",
       "        text-align: right;\n",
       "    }\n",
       "</style>\n",
       "<table border=\"1\" class=\"dataframe\">\n",
       "  <thead>\n",
       "    <tr style=\"text-align: right;\">\n",
       "      <th></th>\n",
       "      <th>group_id</th>\n",
       "      <th>num_scammer</th>\n",
       "    </tr>\n",
       "  </thead>\n",
       "  <tbody>\n",
       "    <tr>\n",
       "      <th>8</th>\n",
       "      <td>9</td>\n",
       "      <td>4155</td>\n",
       "    </tr>\n",
       "    <tr>\n",
       "      <th>104</th>\n",
       "      <td>105</td>\n",
       "      <td>646</td>\n",
       "    </tr>\n",
       "    <tr>\n",
       "      <th>585</th>\n",
       "      <td>586</td>\n",
       "      <td>538</td>\n",
       "    </tr>\n",
       "    <tr>\n",
       "      <th>737</th>\n",
       "      <td>738</td>\n",
       "      <td>432</td>\n",
       "    </tr>\n",
       "    <tr>\n",
       "      <th>195</th>\n",
       "      <td>196</td>\n",
       "      <td>395</td>\n",
       "    </tr>\n",
       "    <tr>\n",
       "      <th>...</th>\n",
       "      <td>...</td>\n",
       "      <td>...</td>\n",
       "    </tr>\n",
       "    <tr>\n",
       "      <th>39707</th>\n",
       "      <td>39708</td>\n",
       "      <td>1</td>\n",
       "    </tr>\n",
       "    <tr>\n",
       "      <th>39705</th>\n",
       "      <td>39706</td>\n",
       "      <td>1</td>\n",
       "    </tr>\n",
       "    <tr>\n",
       "      <th>39703</th>\n",
       "      <td>39704</td>\n",
       "      <td>1</td>\n",
       "    </tr>\n",
       "    <tr>\n",
       "      <th>39702</th>\n",
       "      <td>39703</td>\n",
       "      <td>1</td>\n",
       "    </tr>\n",
       "    <tr>\n",
       "      <th>109470</th>\n",
       "      <td>109471</td>\n",
       "      <td>1</td>\n",
       "    </tr>\n",
       "  </tbody>\n",
       "</table>\n",
       "<p>109471 rows × 2 columns</p>\n",
       "</div>"
      ]
     },
     "execution_count": 38,
     "metadata": {},
     "output_type": "execute_result"
    }
   ],
   "execution_count": 38
  },
  {
   "metadata": {
    "ExecuteTime": {
     "end_time": "2024-10-15T07:12:12.658088Z",
     "start_time": "2024-10-15T07:12:12.639761Z"
    }
   },
   "cell_type": "code",
   "source": [
    "pan_file_path = os.path.join(path.panv2_processed_path, \"non_swap_simple_rp_scammer_group.csv\")\n",
    "pan_groups = pd.read_csv(pan_file_path)\n",
    "print(\"Unique scammers:\", len(pan_groups[\"scammer\"].unique()))\n",
    "pan_groups = pan_groups.groupby('group_id')[\"scammer\"].count().reset_index(name='num_scammer').sort_values(['num_scammer'], ascending=False)\n",
    "print(pan_groups.head())\n",
    "print(pan_groups.describe())\n",
    "poc = pan_groups[pan_groups.num_scammer == 1]\n",
    "p_one_scammer_group_rate = len(poc) / len(pan_groups)\n",
    "print(\"one_scammer_group_rate\", p_one_scammer_group_rate)"
   ],
   "id": "a4a38c986a43184d",
   "outputs": [
    {
     "name": "stdout",
     "output_type": "stream",
     "text": [
      "Unique scammers: 18346\n",
      "      group_id  num_scammer\n",
      "7            8          571\n",
      "276        277           83\n",
      "92          93           43\n",
      "284        285           39\n",
      "1084      1085           33\n",
      "          group_id   num_scammer\n",
      "count  14561.00000  14561.000000\n",
      "mean    7281.00000      1.259941\n",
      "std     4203.54297      4.890597\n",
      "min        1.00000      1.000000\n",
      "25%     3641.00000      1.000000\n",
      "50%     7281.00000      1.000000\n",
      "75%    10921.00000      1.000000\n",
      "max    14561.00000    571.000000\n",
      "one_scammer_group_rate 0.8826316873841082\n"
     ]
    }
   ],
   "execution_count": 35
  },
  {
   "metadata": {
    "ExecuteTime": {
     "end_time": "2024-10-15T07:12:12.690523Z",
     "start_time": "2024-10-15T07:12:12.685874Z"
    }
   },
   "cell_type": "code",
   "source": "pan_groups",
   "id": "756b653b9c247f1b",
   "outputs": [
    {
     "data": {
      "text/plain": [
       "       group_id  num_scammer\n",
       "7             8          571\n",
       "276         277           83\n",
       "92           93           43\n",
       "284         285           39\n",
       "1084       1085           33\n",
       "...         ...          ...\n",
       "5471       5472            1\n",
       "5472       5473            1\n",
       "5473       5474            1\n",
       "5474       5475            1\n",
       "14560     14561            1\n",
       "\n",
       "[14561 rows x 2 columns]"
      ],
      "text/html": [
       "<div>\n",
       "<style scoped>\n",
       "    .dataframe tbody tr th:only-of-type {\n",
       "        vertical-align: middle;\n",
       "    }\n",
       "\n",
       "    .dataframe tbody tr th {\n",
       "        vertical-align: top;\n",
       "    }\n",
       "\n",
       "    .dataframe thead th {\n",
       "        text-align: right;\n",
       "    }\n",
       "</style>\n",
       "<table border=\"1\" class=\"dataframe\">\n",
       "  <thead>\n",
       "    <tr style=\"text-align: right;\">\n",
       "      <th></th>\n",
       "      <th>group_id</th>\n",
       "      <th>num_scammer</th>\n",
       "    </tr>\n",
       "  </thead>\n",
       "  <tbody>\n",
       "    <tr>\n",
       "      <th>7</th>\n",
       "      <td>8</td>\n",
       "      <td>571</td>\n",
       "    </tr>\n",
       "    <tr>\n",
       "      <th>276</th>\n",
       "      <td>277</td>\n",
       "      <td>83</td>\n",
       "    </tr>\n",
       "    <tr>\n",
       "      <th>92</th>\n",
       "      <td>93</td>\n",
       "      <td>43</td>\n",
       "    </tr>\n",
       "    <tr>\n",
       "      <th>284</th>\n",
       "      <td>285</td>\n",
       "      <td>39</td>\n",
       "    </tr>\n",
       "    <tr>\n",
       "      <th>1084</th>\n",
       "      <td>1085</td>\n",
       "      <td>33</td>\n",
       "    </tr>\n",
       "    <tr>\n",
       "      <th>...</th>\n",
       "      <td>...</td>\n",
       "      <td>...</td>\n",
       "    </tr>\n",
       "    <tr>\n",
       "      <th>5471</th>\n",
       "      <td>5472</td>\n",
       "      <td>1</td>\n",
       "    </tr>\n",
       "    <tr>\n",
       "      <th>5472</th>\n",
       "      <td>5473</td>\n",
       "      <td>1</td>\n",
       "    </tr>\n",
       "    <tr>\n",
       "      <th>5473</th>\n",
       "      <td>5474</td>\n",
       "      <td>1</td>\n",
       "    </tr>\n",
       "    <tr>\n",
       "      <th>5474</th>\n",
       "      <td>5475</td>\n",
       "      <td>1</td>\n",
       "    </tr>\n",
       "    <tr>\n",
       "      <th>14560</th>\n",
       "      <td>14561</td>\n",
       "      <td>1</td>\n",
       "    </tr>\n",
       "  </tbody>\n",
       "</table>\n",
       "<p>14561 rows × 2 columns</p>\n",
       "</div>"
      ]
     },
     "execution_count": 36,
     "metadata": {},
     "output_type": "execute_result"
    }
   ],
   "execution_count": 36
  },
  {
   "metadata": {},
   "cell_type": "markdown",
   "source": "# DATA SET",
   "id": "432528f4b5814aae"
  },
  {
   "metadata": {
    "ExecuteTime": {
     "end_time": "2024-10-15T07:12:12.836894Z",
     "start_time": "2024-10-15T07:12:12.784253Z"
    }
   },
   "cell_type": "code",
   "source": [
    "full_uni_pool_file_path = os.path.join(path.univ2_processed_path, \"1_pair_pool_labels.csv\")\n",
    "full_uni_pool = pd.read_csv(full_uni_pool_file_path)\n",
    "print(\"Uniswap pools\", len(full_uni_pool))\n",
    "print(full_uni_pool.head())\n",
    "print(\"Unique creator\", len(full_uni_pool.creator.unique()))\n"
   ],
   "id": "5a1ee357d754aa4c",
   "outputs": [
    {
     "ename": "FileNotFoundError",
     "evalue": "[Errno 2] No such file or directory: '/mnt/Storage/Data/Blockchain/DEX/uniswap/processed/1_pair_pool_labels.csv'",
     "output_type": "error",
     "traceback": [
      "\u001B[0;31m---------------------------------------------------------------------------\u001B[0m",
      "\u001B[0;31mFileNotFoundError\u001B[0m                         Traceback (most recent call last)",
      "Cell \u001B[0;32mIn[37], line 2\u001B[0m\n\u001B[1;32m      1\u001B[0m full_uni_pool_file_path \u001B[38;5;241m=\u001B[39m os\u001B[38;5;241m.\u001B[39mpath\u001B[38;5;241m.\u001B[39mjoin(path\u001B[38;5;241m.\u001B[39muniv2_processed_path, \u001B[38;5;124m\"\u001B[39m\u001B[38;5;124m1_pair_pool_labels.csv\u001B[39m\u001B[38;5;124m\"\u001B[39m)\n\u001B[0;32m----> 2\u001B[0m full_uni_pool \u001B[38;5;241m=\u001B[39m \u001B[43mpd\u001B[49m\u001B[38;5;241;43m.\u001B[39;49m\u001B[43mread_csv\u001B[49m\u001B[43m(\u001B[49m\u001B[43mfull_uni_pool_file_path\u001B[49m\u001B[43m)\u001B[49m\n\u001B[1;32m      3\u001B[0m \u001B[38;5;28mprint\u001B[39m(\u001B[38;5;124m\"\u001B[39m\u001B[38;5;124mUniswap pools\u001B[39m\u001B[38;5;124m\"\u001B[39m, \u001B[38;5;28mlen\u001B[39m(full_uni_pool))\n\u001B[1;32m      4\u001B[0m \u001B[38;5;28mprint\u001B[39m(full_uni_pool\u001B[38;5;241m.\u001B[39mhead())\n",
      "File \u001B[0;32m~/anaconda3/envs/SerialScammer/lib/python3.10/site-packages/pandas/io/parsers/readers.py:1026\u001B[0m, in \u001B[0;36mread_csv\u001B[0;34m(filepath_or_buffer, sep, delimiter, header, names, index_col, usecols, dtype, engine, converters, true_values, false_values, skipinitialspace, skiprows, skipfooter, nrows, na_values, keep_default_na, na_filter, verbose, skip_blank_lines, parse_dates, infer_datetime_format, keep_date_col, date_parser, date_format, dayfirst, cache_dates, iterator, chunksize, compression, thousands, decimal, lineterminator, quotechar, quoting, doublequote, escapechar, comment, encoding, encoding_errors, dialect, on_bad_lines, delim_whitespace, low_memory, memory_map, float_precision, storage_options, dtype_backend)\u001B[0m\n\u001B[1;32m   1013\u001B[0m kwds_defaults \u001B[38;5;241m=\u001B[39m _refine_defaults_read(\n\u001B[1;32m   1014\u001B[0m     dialect,\n\u001B[1;32m   1015\u001B[0m     delimiter,\n\u001B[0;32m   (...)\u001B[0m\n\u001B[1;32m   1022\u001B[0m     dtype_backend\u001B[38;5;241m=\u001B[39mdtype_backend,\n\u001B[1;32m   1023\u001B[0m )\n\u001B[1;32m   1024\u001B[0m kwds\u001B[38;5;241m.\u001B[39mupdate(kwds_defaults)\n\u001B[0;32m-> 1026\u001B[0m \u001B[38;5;28;01mreturn\u001B[39;00m \u001B[43m_read\u001B[49m\u001B[43m(\u001B[49m\u001B[43mfilepath_or_buffer\u001B[49m\u001B[43m,\u001B[49m\u001B[43m \u001B[49m\u001B[43mkwds\u001B[49m\u001B[43m)\u001B[49m\n",
      "File \u001B[0;32m~/anaconda3/envs/SerialScammer/lib/python3.10/site-packages/pandas/io/parsers/readers.py:620\u001B[0m, in \u001B[0;36m_read\u001B[0;34m(filepath_or_buffer, kwds)\u001B[0m\n\u001B[1;32m    617\u001B[0m _validate_names(kwds\u001B[38;5;241m.\u001B[39mget(\u001B[38;5;124m\"\u001B[39m\u001B[38;5;124mnames\u001B[39m\u001B[38;5;124m\"\u001B[39m, \u001B[38;5;28;01mNone\u001B[39;00m))\n\u001B[1;32m    619\u001B[0m \u001B[38;5;66;03m# Create the parser.\u001B[39;00m\n\u001B[0;32m--> 620\u001B[0m parser \u001B[38;5;241m=\u001B[39m \u001B[43mTextFileReader\u001B[49m\u001B[43m(\u001B[49m\u001B[43mfilepath_or_buffer\u001B[49m\u001B[43m,\u001B[49m\u001B[43m \u001B[49m\u001B[38;5;241;43m*\u001B[39;49m\u001B[38;5;241;43m*\u001B[39;49m\u001B[43mkwds\u001B[49m\u001B[43m)\u001B[49m\n\u001B[1;32m    622\u001B[0m \u001B[38;5;28;01mif\u001B[39;00m chunksize \u001B[38;5;129;01mor\u001B[39;00m iterator:\n\u001B[1;32m    623\u001B[0m     \u001B[38;5;28;01mreturn\u001B[39;00m parser\n",
      "File \u001B[0;32m~/anaconda3/envs/SerialScammer/lib/python3.10/site-packages/pandas/io/parsers/readers.py:1620\u001B[0m, in \u001B[0;36mTextFileReader.__init__\u001B[0;34m(self, f, engine, **kwds)\u001B[0m\n\u001B[1;32m   1617\u001B[0m     \u001B[38;5;28mself\u001B[39m\u001B[38;5;241m.\u001B[39moptions[\u001B[38;5;124m\"\u001B[39m\u001B[38;5;124mhas_index_names\u001B[39m\u001B[38;5;124m\"\u001B[39m] \u001B[38;5;241m=\u001B[39m kwds[\u001B[38;5;124m\"\u001B[39m\u001B[38;5;124mhas_index_names\u001B[39m\u001B[38;5;124m\"\u001B[39m]\n\u001B[1;32m   1619\u001B[0m \u001B[38;5;28mself\u001B[39m\u001B[38;5;241m.\u001B[39mhandles: IOHandles \u001B[38;5;241m|\u001B[39m \u001B[38;5;28;01mNone\u001B[39;00m \u001B[38;5;241m=\u001B[39m \u001B[38;5;28;01mNone\u001B[39;00m\n\u001B[0;32m-> 1620\u001B[0m \u001B[38;5;28mself\u001B[39m\u001B[38;5;241m.\u001B[39m_engine \u001B[38;5;241m=\u001B[39m \u001B[38;5;28;43mself\u001B[39;49m\u001B[38;5;241;43m.\u001B[39;49m\u001B[43m_make_engine\u001B[49m\u001B[43m(\u001B[49m\u001B[43mf\u001B[49m\u001B[43m,\u001B[49m\u001B[43m \u001B[49m\u001B[38;5;28;43mself\u001B[39;49m\u001B[38;5;241;43m.\u001B[39;49m\u001B[43mengine\u001B[49m\u001B[43m)\u001B[49m\n",
      "File \u001B[0;32m~/anaconda3/envs/SerialScammer/lib/python3.10/site-packages/pandas/io/parsers/readers.py:1880\u001B[0m, in \u001B[0;36mTextFileReader._make_engine\u001B[0;34m(self, f, engine)\u001B[0m\n\u001B[1;32m   1878\u001B[0m     \u001B[38;5;28;01mif\u001B[39;00m \u001B[38;5;124m\"\u001B[39m\u001B[38;5;124mb\u001B[39m\u001B[38;5;124m\"\u001B[39m \u001B[38;5;129;01mnot\u001B[39;00m \u001B[38;5;129;01min\u001B[39;00m mode:\n\u001B[1;32m   1879\u001B[0m         mode \u001B[38;5;241m+\u001B[39m\u001B[38;5;241m=\u001B[39m \u001B[38;5;124m\"\u001B[39m\u001B[38;5;124mb\u001B[39m\u001B[38;5;124m\"\u001B[39m\n\u001B[0;32m-> 1880\u001B[0m \u001B[38;5;28mself\u001B[39m\u001B[38;5;241m.\u001B[39mhandles \u001B[38;5;241m=\u001B[39m \u001B[43mget_handle\u001B[49m\u001B[43m(\u001B[49m\n\u001B[1;32m   1881\u001B[0m \u001B[43m    \u001B[49m\u001B[43mf\u001B[49m\u001B[43m,\u001B[49m\n\u001B[1;32m   1882\u001B[0m \u001B[43m    \u001B[49m\u001B[43mmode\u001B[49m\u001B[43m,\u001B[49m\n\u001B[1;32m   1883\u001B[0m \u001B[43m    \u001B[49m\u001B[43mencoding\u001B[49m\u001B[38;5;241;43m=\u001B[39;49m\u001B[38;5;28;43mself\u001B[39;49m\u001B[38;5;241;43m.\u001B[39;49m\u001B[43moptions\u001B[49m\u001B[38;5;241;43m.\u001B[39;49m\u001B[43mget\u001B[49m\u001B[43m(\u001B[49m\u001B[38;5;124;43m\"\u001B[39;49m\u001B[38;5;124;43mencoding\u001B[39;49m\u001B[38;5;124;43m\"\u001B[39;49m\u001B[43m,\u001B[49m\u001B[43m \u001B[49m\u001B[38;5;28;43;01mNone\u001B[39;49;00m\u001B[43m)\u001B[49m\u001B[43m,\u001B[49m\n\u001B[1;32m   1884\u001B[0m \u001B[43m    \u001B[49m\u001B[43mcompression\u001B[49m\u001B[38;5;241;43m=\u001B[39;49m\u001B[38;5;28;43mself\u001B[39;49m\u001B[38;5;241;43m.\u001B[39;49m\u001B[43moptions\u001B[49m\u001B[38;5;241;43m.\u001B[39;49m\u001B[43mget\u001B[49m\u001B[43m(\u001B[49m\u001B[38;5;124;43m\"\u001B[39;49m\u001B[38;5;124;43mcompression\u001B[39;49m\u001B[38;5;124;43m\"\u001B[39;49m\u001B[43m,\u001B[49m\u001B[43m \u001B[49m\u001B[38;5;28;43;01mNone\u001B[39;49;00m\u001B[43m)\u001B[49m\u001B[43m,\u001B[49m\n\u001B[1;32m   1885\u001B[0m \u001B[43m    \u001B[49m\u001B[43mmemory_map\u001B[49m\u001B[38;5;241;43m=\u001B[39;49m\u001B[38;5;28;43mself\u001B[39;49m\u001B[38;5;241;43m.\u001B[39;49m\u001B[43moptions\u001B[49m\u001B[38;5;241;43m.\u001B[39;49m\u001B[43mget\u001B[49m\u001B[43m(\u001B[49m\u001B[38;5;124;43m\"\u001B[39;49m\u001B[38;5;124;43mmemory_map\u001B[39;49m\u001B[38;5;124;43m\"\u001B[39;49m\u001B[43m,\u001B[49m\u001B[43m \u001B[49m\u001B[38;5;28;43;01mFalse\u001B[39;49;00m\u001B[43m)\u001B[49m\u001B[43m,\u001B[49m\n\u001B[1;32m   1886\u001B[0m \u001B[43m    \u001B[49m\u001B[43mis_text\u001B[49m\u001B[38;5;241;43m=\u001B[39;49m\u001B[43mis_text\u001B[49m\u001B[43m,\u001B[49m\n\u001B[1;32m   1887\u001B[0m \u001B[43m    \u001B[49m\u001B[43merrors\u001B[49m\u001B[38;5;241;43m=\u001B[39;49m\u001B[38;5;28;43mself\u001B[39;49m\u001B[38;5;241;43m.\u001B[39;49m\u001B[43moptions\u001B[49m\u001B[38;5;241;43m.\u001B[39;49m\u001B[43mget\u001B[49m\u001B[43m(\u001B[49m\u001B[38;5;124;43m\"\u001B[39;49m\u001B[38;5;124;43mencoding_errors\u001B[39;49m\u001B[38;5;124;43m\"\u001B[39;49m\u001B[43m,\u001B[49m\u001B[43m \u001B[49m\u001B[38;5;124;43m\"\u001B[39;49m\u001B[38;5;124;43mstrict\u001B[39;49m\u001B[38;5;124;43m\"\u001B[39;49m\u001B[43m)\u001B[49m\u001B[43m,\u001B[49m\n\u001B[1;32m   1888\u001B[0m \u001B[43m    \u001B[49m\u001B[43mstorage_options\u001B[49m\u001B[38;5;241;43m=\u001B[39;49m\u001B[38;5;28;43mself\u001B[39;49m\u001B[38;5;241;43m.\u001B[39;49m\u001B[43moptions\u001B[49m\u001B[38;5;241;43m.\u001B[39;49m\u001B[43mget\u001B[49m\u001B[43m(\u001B[49m\u001B[38;5;124;43m\"\u001B[39;49m\u001B[38;5;124;43mstorage_options\u001B[39;49m\u001B[38;5;124;43m\"\u001B[39;49m\u001B[43m,\u001B[49m\u001B[43m \u001B[49m\u001B[38;5;28;43;01mNone\u001B[39;49;00m\u001B[43m)\u001B[49m\u001B[43m,\u001B[49m\n\u001B[1;32m   1889\u001B[0m \u001B[43m\u001B[49m\u001B[43m)\u001B[49m\n\u001B[1;32m   1890\u001B[0m \u001B[38;5;28;01massert\u001B[39;00m \u001B[38;5;28mself\u001B[39m\u001B[38;5;241m.\u001B[39mhandles \u001B[38;5;129;01mis\u001B[39;00m \u001B[38;5;129;01mnot\u001B[39;00m \u001B[38;5;28;01mNone\u001B[39;00m\n\u001B[1;32m   1891\u001B[0m f \u001B[38;5;241m=\u001B[39m \u001B[38;5;28mself\u001B[39m\u001B[38;5;241m.\u001B[39mhandles\u001B[38;5;241m.\u001B[39mhandle\n",
      "File \u001B[0;32m~/anaconda3/envs/SerialScammer/lib/python3.10/site-packages/pandas/io/common.py:873\u001B[0m, in \u001B[0;36mget_handle\u001B[0;34m(path_or_buf, mode, encoding, compression, memory_map, is_text, errors, storage_options)\u001B[0m\n\u001B[1;32m    868\u001B[0m \u001B[38;5;28;01melif\u001B[39;00m \u001B[38;5;28misinstance\u001B[39m(handle, \u001B[38;5;28mstr\u001B[39m):\n\u001B[1;32m    869\u001B[0m     \u001B[38;5;66;03m# Check whether the filename is to be opened in binary mode.\u001B[39;00m\n\u001B[1;32m    870\u001B[0m     \u001B[38;5;66;03m# Binary mode does not support 'encoding' and 'newline'.\u001B[39;00m\n\u001B[1;32m    871\u001B[0m     \u001B[38;5;28;01mif\u001B[39;00m ioargs\u001B[38;5;241m.\u001B[39mencoding \u001B[38;5;129;01mand\u001B[39;00m \u001B[38;5;124m\"\u001B[39m\u001B[38;5;124mb\u001B[39m\u001B[38;5;124m\"\u001B[39m \u001B[38;5;129;01mnot\u001B[39;00m \u001B[38;5;129;01min\u001B[39;00m ioargs\u001B[38;5;241m.\u001B[39mmode:\n\u001B[1;32m    872\u001B[0m         \u001B[38;5;66;03m# Encoding\u001B[39;00m\n\u001B[0;32m--> 873\u001B[0m         handle \u001B[38;5;241m=\u001B[39m \u001B[38;5;28;43mopen\u001B[39;49m\u001B[43m(\u001B[49m\n\u001B[1;32m    874\u001B[0m \u001B[43m            \u001B[49m\u001B[43mhandle\u001B[49m\u001B[43m,\u001B[49m\n\u001B[1;32m    875\u001B[0m \u001B[43m            \u001B[49m\u001B[43mioargs\u001B[49m\u001B[38;5;241;43m.\u001B[39;49m\u001B[43mmode\u001B[49m\u001B[43m,\u001B[49m\n\u001B[1;32m    876\u001B[0m \u001B[43m            \u001B[49m\u001B[43mencoding\u001B[49m\u001B[38;5;241;43m=\u001B[39;49m\u001B[43mioargs\u001B[49m\u001B[38;5;241;43m.\u001B[39;49m\u001B[43mencoding\u001B[49m\u001B[43m,\u001B[49m\n\u001B[1;32m    877\u001B[0m \u001B[43m            \u001B[49m\u001B[43merrors\u001B[49m\u001B[38;5;241;43m=\u001B[39;49m\u001B[43merrors\u001B[49m\u001B[43m,\u001B[49m\n\u001B[1;32m    878\u001B[0m \u001B[43m            \u001B[49m\u001B[43mnewline\u001B[49m\u001B[38;5;241;43m=\u001B[39;49m\u001B[38;5;124;43m\"\u001B[39;49m\u001B[38;5;124;43m\"\u001B[39;49m\u001B[43m,\u001B[49m\n\u001B[1;32m    879\u001B[0m \u001B[43m        \u001B[49m\u001B[43m)\u001B[49m\n\u001B[1;32m    880\u001B[0m     \u001B[38;5;28;01melse\u001B[39;00m:\n\u001B[1;32m    881\u001B[0m         \u001B[38;5;66;03m# Binary mode\u001B[39;00m\n\u001B[1;32m    882\u001B[0m         handle \u001B[38;5;241m=\u001B[39m \u001B[38;5;28mopen\u001B[39m(handle, ioargs\u001B[38;5;241m.\u001B[39mmode)\n",
      "\u001B[0;31mFileNotFoundError\u001B[0m: [Errno 2] No such file or directory: '/mnt/Storage/Data/Blockchain/DEX/uniswap/processed/1_pair_pool_labels.csv'"
     ]
    }
   ],
   "execution_count": 37
  },
  {
   "metadata": {
    "ExecuteTime": {
     "end_time": "2024-10-15T07:12:12.879781740Z",
     "start_time": "2024-10-13T02:27:11.867295Z"
    }
   },
   "cell_type": "code",
   "source": [
    "uni_pool_file_path = os.path.join(path.univ2_processed_path, \"filtered_simple_rp_scammers.csv\")\n",
    "uni_pool = pd.read_csv(uni_pool_file_path)\n",
    "print(\"Uniswap scammer pools\", len(uni_pool))\n",
    "print(uni_pool.head())\n",
    "print(\"Unique scammer\", len(uni_pool.scammer.unique()))"
   ],
   "id": "848086c5ca744dba",
   "outputs": [
    {
     "name": "stdout",
     "output_type": "stream",
     "text": [
      "Uniswap scammer pools 196239\n",
      "                                         pool  \\\n",
      "0  0x2F2399AfBcF979cA3D92a3158562C9A397b28D06   \n",
      "1  0x0e2129c1bDbb0AfaA6Be1ed53650B267C0FB5556   \n",
      "2  0x7f6fe5c9FF1F9D46B29B79537D9ce6337127DFE0   \n",
      "3  0x083B344D961D4Ab3823ACceC60253ec6c4bdB511   \n",
      "4  0x441d3A8eA2076ad7326E91f52704CBE00C911F73   \n",
      "\n",
      "                                      scammer  \n",
      "0  0xe2772341c3ca68f332ec8d68d13b5ebae3dd26d8  \n",
      "1  0x6f9ff1f95bde025e3d5e4633304fa8c29ea8acf8  \n",
      "2  0xc1ff218cb1355e6c7b25e8144252cc5ea3c08d9f  \n",
      "3  0xae9943ffb0ea5959ddbf7bbe93d246c861d4c939  \n",
      "4  0xcb114805b901f7a9c38d5675272ef26459a7d805  \n",
      "Unique scammer 176750\n"
     ]
    }
   ],
   "execution_count": 6
  },
  {
   "metadata": {
    "ExecuteTime": {
     "end_time": "2024-10-15T07:12:12.879995004Z",
     "start_time": "2024-10-13T04:10:19.481215Z"
    }
   },
   "cell_type": "code",
   "source": [
    "pan_pool_file_path = os.path.join(path.panv2_processed_path, \"filtered_simple_rp_scammers.csv\")\n",
    "pan_pool = pd.read_csv(pan_pool_file_path)\n",
    "print(\"Uniswap scammer pools\", len(pan_pool))\n",
    "print(pan_pool.head())\n",
    "print(\"Unique scammer\", len(pan_pool.scammer.unique()))"
   ],
   "id": "ef02212849162c4f",
   "outputs": [
    {
     "name": "stdout",
     "output_type": "stream",
     "text": [
      "Uniswap scammer pools 105300\n",
      "                                         pool  \\\n",
      "0  0x45c0a88988f33123794DAb66c232c00e7C1DdCd5   \n",
      "1  0x45c0a88988f33123794DAb66c232c00e7C1DdCd5   \n",
      "2  0xC403605005e2C878914ee9FEAD840490a961782b   \n",
      "3  0xaaBd4586Ed416E14EBe6321523883EC36E387a47   \n",
      "4  0xaaBd4586Ed416E14EBe6321523883EC36E387a47   \n",
      "\n",
      "                                      scammer  \n",
      "0  0xecaace2c92afe113057c1bf66c78ccd08e20d249  \n",
      "1  0x348ad0b3a43baca917f2f75cd98172371bf191df  \n",
      "2  0x7fb0792ad88320711270f219510bc3be928293c2  \n",
      "3  0xecaace2c92afe113057c1bf66c78ccd08e20d249  \n",
      "4  0x348ad0b3a43baca917f2f75cd98172371bf191df  \n",
      "Unique scammer 59741\n"
     ]
    }
   ],
   "execution_count": 18
  },
  {
   "metadata": {
    "ExecuteTime": {
     "end_time": "2024-10-15T07:12:12.880113989Z",
     "start_time": "2024-10-13T05:20:00.907764Z"
    }
   },
   "cell_type": "code",
   "source": [
    "uni_event_stats = pd.read_csv(\"data/univ2_events_stats.csv\")\n",
    "print(uni_event_stats.head())\n",
    "print(\"Mint\", uni_event_stats.Mint.sum())\n",
    "print(\"Burn\", uni_event_stats.Burn.sum())\n",
    "print(\"Transfer\", uni_event_stats.Transfer.sum())\n",
    "print(\"Swap\", uni_event_stats.Swap.sum())"
   ],
   "id": "f64f73e9bb7510e4",
   "outputs": [
    {
     "name": "stdout",
     "output_type": "stream",
     "text": [
      "                                 pool_address  Mint  Burn  Transfer  Swap\n",
      "0  0xB4e16d0168e52d35CaCD2c6185b44281Ec28C9Dc  1000  1000      1000  1000\n",
      "1  0x3139Ffc91B99aa94DA8A2dc13f1fC36F9BDc98eE     8     6        21    45\n",
      "2  0x12EDE161c702D1494612d19f05992f43aa6A26FB    35    27       100   896\n",
      "3  0xA478c2975Ab1Ea89e8196811F51A7B7Ade33eB11  1000  1000      1000  1000\n",
      "4  0x07F068ca326a469Fc1d87d85d448990C8cBa7dF9    44    37       119  1000\n",
      "Mint 2191810\n",
      "Burn 1022373\n",
      "Transfer 4632651\n",
      "Swap 49894733\n"
     ]
    }
   ],
   "execution_count": 21
  },
  {
   "metadata": {
    "ExecuteTime": {
     "end_time": "2024-10-15T07:12:12.880268528Z",
     "start_time": "2024-10-13T07:56:41.665406Z"
    }
   },
   "cell_type": "code",
   "source": [
    "pan_event_stats = pd.read_csv(\"data/panv2_events_stats.csv\")\n",
    "print(pan_event_stats.head())\n",
    "print(\"Mint\", pan_event_stats.Mint.sum())\n",
    "print(\"Burn\", pan_event_stats.Burn.sum())\n",
    "print(\"Transfer\", pan_event_stats.Transfer.sum())\n",
    "print(\"Swap\", pan_event_stats.Swap.sum())"
   ],
   "id": "da0ed250d7d8024a",
   "outputs": [
    {
     "name": "stdout",
     "output_type": "stream",
     "text": [
      "                                 pool_address  Mint  Burn  Transfer  Swap\n",
      "0  0x804678fa97d91B974ec2af3c843270886528a9E6  1000  1000      1000  1000\n",
      "1  0x0eD7e52944161450477ee417DE9Cd3a859b14fD0  1000  1000      1000  1000\n",
      "2  0x58F876857a02D6762E0101bb5C46A8c1ED44Dc16  1000  1000      1000  1000\n",
      "3  0x28415ff2C35b65B9E5c7de82126b4015ab9d031F  1000  1000      1000  1000\n",
      "4  0x168B273278F3A8d302De5E879aA30690B7E6c28f  1000  1000      1000  1000\n",
      "Mint 17318233\n",
      "Burn 5169489\n",
      "Transfer 38054335\n",
      "Swap 154969903\n"
     ]
    }
   ],
   "execution_count": 22
  }
 ],
 "metadata": {
  "kernelspec": {
   "display_name": "Python 3",
   "language": "python",
   "name": "python3"
  },
  "language_info": {
   "codemirror_mode": {
    "name": "ipython",
    "version": 2
   },
   "file_extension": ".py",
   "mimetype": "text/x-python",
   "name": "python",
   "nbconvert_exporter": "python",
   "pygments_lexer": "ipython2",
   "version": "2.7.6"
  }
 },
 "nbformat": 4,
 "nbformat_minor": 5
}
