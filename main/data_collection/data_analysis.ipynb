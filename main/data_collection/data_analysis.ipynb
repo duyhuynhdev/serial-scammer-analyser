{
 "cells": [
  {
   "cell_type": "code",
   "id": "initial_id",
   "metadata": {
    "collapsed": true,
    "ExecuteTime": {
     "end_time": "2024-08-29T22:43:05.185611Z",
     "start_time": "2024-08-29T22:43:04.327655Z"
    }
   },
   "source": [
    "import utils.Utils as ut\n",
    "import os\n",
    "import pandas as pd\n",
    "from utils.Settings import Setting\n",
    "from utils.Path import Path\n",
    "from collections import Counter\n",
    "from utils import ChartDrawer as cd\n",
    "\n",
    "path = Path()\n",
    "setting = Setting()\n",
    "\n",
    "uniswap_tokens = pd.read_csv(os.path.join(path.univ2_token_path, \"token_info.csv\"))\n",
    "uniswap_pools = pd.read_csv(os.path.join(path.univ2_pool_path, \"pool_info.csv\"))\n",
    "display(uniswap_tokens.head())\n",
    "display(uniswap_pools.head())"
   ],
   "outputs": [
    {
     "name": "stdout",
     "output_type": "stream",
     "text": [
      "ENVIRONMENT VARIABLES\n",
      "DATA PATH: /media/dustin/Storage/Data/blockchain/DEX\n"
     ]
    },
    {
     "name": "stderr",
     "output_type": "stream",
     "text": [
      "/tmp/ipykernel_1045365/3033100847.py:11: DtypeWarning: Columns (3) have mixed types. Specify dtype option on import or set low_memory=False.\n",
      "  uniswap_tokens = pd.read_csv(os.path.join(path.univ2_token_path, \"token_info.csv\"))\n"
     ]
    },
    {
     "data": {
      "text/plain": [
       "                                        token            name symbol decimals  \\\n",
       "0  0xA0b86991c6218b36c1d19D4a2e9Eb0cE3606eB48        USD Coin   USDC        6   \n",
       "1  0x8E870D67F660D95d5be530380D0eC0bd388289E1      Pax Dollar   USDP       18   \n",
       "2  0x06AF07097C9Eeb7fD685c692751D5C66dB49c215            Chai   CHAI       18   \n",
       "3  0x6B175474E89094C44Da98b954EedeAC495271d0F  Dai Stablecoin    DAI       18   \n",
       "4  0x408e41876cCCDC0F92210600ef50372656052a38  Republic Token    REN       18   \n",
       "\n",
       "                    totalSupply  \n",
       "0             25447635799776795  \n",
       "1   106634505570683428958262426  \n",
       "2    38480308334265622567694238  \n",
       "3  3209613358451062408696133612  \n",
       "4   999999632803750000000000000  "
      ],
      "text/html": [
       "<div>\n",
       "<style scoped>\n",
       "    .dataframe tbody tr th:only-of-type {\n",
       "        vertical-align: middle;\n",
       "    }\n",
       "\n",
       "    .dataframe tbody tr th {\n",
       "        vertical-align: top;\n",
       "    }\n",
       "\n",
       "    .dataframe thead th {\n",
       "        text-align: right;\n",
       "    }\n",
       "</style>\n",
       "<table border=\"1\" class=\"dataframe\">\n",
       "  <thead>\n",
       "    <tr style=\"text-align: right;\">\n",
       "      <th></th>\n",
       "      <th>token</th>\n",
       "      <th>name</th>\n",
       "      <th>symbol</th>\n",
       "      <th>decimals</th>\n",
       "      <th>totalSupply</th>\n",
       "    </tr>\n",
       "  </thead>\n",
       "  <tbody>\n",
       "    <tr>\n",
       "      <th>0</th>\n",
       "      <td>0xA0b86991c6218b36c1d19D4a2e9Eb0cE3606eB48</td>\n",
       "      <td>USD Coin</td>\n",
       "      <td>USDC</td>\n",
       "      <td>6</td>\n",
       "      <td>25447635799776795</td>\n",
       "    </tr>\n",
       "    <tr>\n",
       "      <th>1</th>\n",
       "      <td>0x8E870D67F660D95d5be530380D0eC0bd388289E1</td>\n",
       "      <td>Pax Dollar</td>\n",
       "      <td>USDP</td>\n",
       "      <td>18</td>\n",
       "      <td>106634505570683428958262426</td>\n",
       "    </tr>\n",
       "    <tr>\n",
       "      <th>2</th>\n",
       "      <td>0x06AF07097C9Eeb7fD685c692751D5C66dB49c215</td>\n",
       "      <td>Chai</td>\n",
       "      <td>CHAI</td>\n",
       "      <td>18</td>\n",
       "      <td>38480308334265622567694238</td>\n",
       "    </tr>\n",
       "    <tr>\n",
       "      <th>3</th>\n",
       "      <td>0x6B175474E89094C44Da98b954EedeAC495271d0F</td>\n",
       "      <td>Dai Stablecoin</td>\n",
       "      <td>DAI</td>\n",
       "      <td>18</td>\n",
       "      <td>3209613358451062408696133612</td>\n",
       "    </tr>\n",
       "    <tr>\n",
       "      <th>4</th>\n",
       "      <td>0x408e41876cCCDC0F92210600ef50372656052a38</td>\n",
       "      <td>Republic Token</td>\n",
       "      <td>REN</td>\n",
       "      <td>18</td>\n",
       "      <td>999999632803750000000000000</td>\n",
       "    </tr>\n",
       "  </tbody>\n",
       "</table>\n",
       "</div>"
      ]
     },
     "metadata": {},
     "output_type": "display_data"
    },
    {
     "data": {
      "text/plain": [
       "                                         pool  \\\n",
       "0  0xB4e16d0168e52d35CaCD2c6185b44281Ec28C9Dc   \n",
       "1  0x3139Ffc91B99aa94DA8A2dc13f1fC36F9BDc98eE   \n",
       "2  0x12EDE161c702D1494612d19f05992f43aa6A26FB   \n",
       "3  0xA478c2975Ab1Ea89e8196811F51A7B7Ade33eB11   \n",
       "4  0x07F068ca326a469Fc1d87d85d448990C8cBa7dF9   \n",
       "\n",
       "                                       token0  \\\n",
       "0  0xA0b86991c6218b36c1d19D4a2e9Eb0cE3606eB48   \n",
       "1  0x8E870D67F660D95d5be530380D0eC0bd388289E1   \n",
       "2  0x06AF07097C9Eeb7fD685c692751D5C66dB49c215   \n",
       "3  0x6B175474E89094C44Da98b954EedeAC495271d0F   \n",
       "4  0x408e41876cCCDC0F92210600ef50372656052a38   \n",
       "\n",
       "                                       token1  \n",
       "0  0xC02aaA39b223FE8D0A0e5C4F27eAD9083C756Cc2  \n",
       "1  0xA0b86991c6218b36c1d19D4a2e9Eb0cE3606eB48  \n",
       "2  0xC02aaA39b223FE8D0A0e5C4F27eAD9083C756Cc2  \n",
       "3  0xC02aaA39b223FE8D0A0e5C4F27eAD9083C756Cc2  \n",
       "4  0xA0b86991c6218b36c1d19D4a2e9Eb0cE3606eB48  "
      ],
      "text/html": [
       "<div>\n",
       "<style scoped>\n",
       "    .dataframe tbody tr th:only-of-type {\n",
       "        vertical-align: middle;\n",
       "    }\n",
       "\n",
       "    .dataframe tbody tr th {\n",
       "        vertical-align: top;\n",
       "    }\n",
       "\n",
       "    .dataframe thead th {\n",
       "        text-align: right;\n",
       "    }\n",
       "</style>\n",
       "<table border=\"1\" class=\"dataframe\">\n",
       "  <thead>\n",
       "    <tr style=\"text-align: right;\">\n",
       "      <th></th>\n",
       "      <th>pool</th>\n",
       "      <th>token0</th>\n",
       "      <th>token1</th>\n",
       "    </tr>\n",
       "  </thead>\n",
       "  <tbody>\n",
       "    <tr>\n",
       "      <th>0</th>\n",
       "      <td>0xB4e16d0168e52d35CaCD2c6185b44281Ec28C9Dc</td>\n",
       "      <td>0xA0b86991c6218b36c1d19D4a2e9Eb0cE3606eB48</td>\n",
       "      <td>0xC02aaA39b223FE8D0A0e5C4F27eAD9083C756Cc2</td>\n",
       "    </tr>\n",
       "    <tr>\n",
       "      <th>1</th>\n",
       "      <td>0x3139Ffc91B99aa94DA8A2dc13f1fC36F9BDc98eE</td>\n",
       "      <td>0x8E870D67F660D95d5be530380D0eC0bd388289E1</td>\n",
       "      <td>0xA0b86991c6218b36c1d19D4a2e9Eb0cE3606eB48</td>\n",
       "    </tr>\n",
       "    <tr>\n",
       "      <th>2</th>\n",
       "      <td>0x12EDE161c702D1494612d19f05992f43aa6A26FB</td>\n",
       "      <td>0x06AF07097C9Eeb7fD685c692751D5C66dB49c215</td>\n",
       "      <td>0xC02aaA39b223FE8D0A0e5C4F27eAD9083C756Cc2</td>\n",
       "    </tr>\n",
       "    <tr>\n",
       "      <th>3</th>\n",
       "      <td>0xA478c2975Ab1Ea89e8196811F51A7B7Ade33eB11</td>\n",
       "      <td>0x6B175474E89094C44Da98b954EedeAC495271d0F</td>\n",
       "      <td>0xC02aaA39b223FE8D0A0e5C4F27eAD9083C756Cc2</td>\n",
       "    </tr>\n",
       "    <tr>\n",
       "      <th>4</th>\n",
       "      <td>0x07F068ca326a469Fc1d87d85d448990C8cBa7dF9</td>\n",
       "      <td>0x408e41876cCCDC0F92210600ef50372656052a38</td>\n",
       "      <td>0xA0b86991c6218b36c1d19D4a2e9Eb0cE3606eB48</td>\n",
       "    </tr>\n",
       "  </tbody>\n",
       "</table>\n",
       "</div>"
      ]
     },
     "metadata": {},
     "output_type": "display_data"
    }
   ],
   "execution_count": 5
  },
  {
   "metadata": {
    "ExecuteTime": {
     "end_time": "2024-08-29T22:58:15.610012Z",
     "start_time": "2024-08-29T22:58:15.392996Z"
    }
   },
   "cell_type": "code",
   "source": [
    "tokens_appearances = uniswap_pools[\"token0\"].to_list()\n",
    "tokens_appearances.extend(uniswap_pools[\"token1\"].to_list())\n",
    "count = pd.Series(tokens_appearances).value_counts()\n",
    "print(\"Total Pair\", len(uniswap_pools))\n",
    "# print(count)\n",
    "top5 =  count[:5]\n",
    "# cd.pie(top5[\"symbol\"].values, top5[\"count\"].values, \"\", \"\", True)\n",
    "print(top5/len(uniswap_pools) *100)\n",
    "print(sum(count[5:]))\n",
    "print(uniswap_tokens[uniswap_tokens[\"token\"].isin(top5.index)])"
   ],
   "id": "4099ab32a368d72b",
   "outputs": [
    {
     "name": "stdout",
     "output_type": "stream",
     "text": [
      "Total Pair 356296\n",
      "0xC02aaA39b223FE8D0A0e5C4F27eAD9083C756Cc2    96.446494\n",
      "0xA0b86991c6218b36c1d19D4a2e9Eb0cE3606eB48     0.932371\n",
      "0xdAC17F958D2ee523a2206206994597C13D831ec7     0.785863\n",
      "0x6B175474E89094C44Da98b954EedeAC495271d0F     0.287121\n",
      "0x1f9840a85d5aF5bf1D1762F925BDADdC4201F984     0.094584\n",
      "Name: count, dtype: float64\n",
      "361475\n",
      "                                            token            name symbol  \\\n",
      "0      0xA0b86991c6218b36c1d19D4a2e9Eb0cE3606eB48        USD Coin   USDC   \n",
      "3      0x6B175474E89094C44Da98b954EedeAC495271d0F  Dai Stablecoin    DAI   \n",
      "5      0xC02aaA39b223FE8D0A0e5C4F27eAD9083C756Cc2   Wrapped Ether   WETH   \n",
      "482    0xdAC17F958D2ee523a2206206994597C13D831ec7      Tether USD   USDT   \n",
      "38535  0x1f9840a85d5aF5bf1D1762F925BDADdC4201F984         Uniswap    UNI   \n",
      "\n",
      "      decimals                   totalSupply  \n",
      "0            6             25447635799776795  \n",
      "3           18  3209613358451062408696133612  \n",
      "5           18     2910161013031910316265189  \n",
      "482          6             53983320457505922  \n",
      "38535       18  1000000000000000000000000000  \n"
     ]
    }
   ],
   "execution_count": 15
  }
 ],
 "metadata": {
  "kernelspec": {
   "display_name": "Python 3",
   "language": "python",
   "name": "python3"
  },
  "language_info": {
   "codemirror_mode": {
    "name": "ipython",
    "version": 2
   },
   "file_extension": ".py",
   "mimetype": "text/x-python",
   "name": "python",
   "nbconvert_exporter": "python",
   "pygments_lexer": "ipython2",
   "version": "2.7.6"
  }
 },
 "nbformat": 4,
 "nbformat_minor": 5
}
